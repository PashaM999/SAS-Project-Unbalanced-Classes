{
 "cells": [
  {
   "cell_type": "markdown",
   "source": "# IMPORTS",
   "metadata": {
    "tags": [],
    "cell_id": "00000-25bbb382-60c6-4581-a49f-ba6e7e36d711",
    "deepnote_cell_type": "markdown"
   }
  },
  {
   "cell_type": "code",
   "metadata": {
    "tags": [],
    "output_cleared": false,
    "source_hash": "4327575b",
    "execution_millis": 18535,
    "deepnote_to_be_reexecuted": false,
    "execution_start": 1622965596611,
    "is_code_hidden": false,
    "cell_id": "00001-4605ca87-5d53-4462-8fef-196f49ac57a3",
    "deepnote_cell_type": "code"
   },
   "source": "import pandas as pd\nimport os\nos.system('pip install catboost lightgbm pip install statsmodels pip install xgboost pip install imblearn')\nimport time\nfrom sklearn.ensemble import RandomForestClassifier, GradientBoostingClassifier\nfrom sklearn.model_selection import train_test_split as tts\nfrom imblearn.ensemble import BalancedBaggingClassifier  \nimport seaborn as sns\nimport matplotlib.pyplot as plt\nimport warnings\nfrom catboost import CatBoostClassifier\nfrom lightgbm import LGBMClassifier\nimport statsmodels.api as sm\nfrom xgboost import XGBClassifier\nfrom sklearn import metrics\nimport numpy as np\nimport matplotlib.pyplot as plt\nimport plotly.express as px\nfrom imblearn.under_sampling import RandomUnderSampler\nfrom imblearn.under_sampling import NeighbourhoodCleaningRule\nfrom imblearn.under_sampling import TomekLinks\nfrom imblearn.under_sampling import InstanceHardnessThreshold\nfrom imblearn.over_sampling import RandomOverSampler\nfrom imblearn.over_sampling import SMOTE\nfrom imblearn.over_sampling import ADASYN\nfrom imblearn.ensemble import BalancedRandomForestClassifier \nfrom imblearn.ensemble import EasyEnsembleClassifier  \nfrom imblearn.ensemble import RUSBoostClassifier \nfrom sklearn.metrics import precision_recall_curve\nfrom imblearn.under_sampling import RandomUnderSampler\nfrom sklearn.ensemble import StackingClassifier\nfrom sklearn.linear_model import LogisticRegression\nfrom imblearn.combine import SMOTETomek \nwarnings.filterwarnings(\"ignore\")",
   "outputs": [],
   "execution_count": null
  },
  {
   "cell_type": "markdown",
   "source": "# Data processing",
   "metadata": {
    "tags": [],
    "cell_id": "00002-4a727b1b-c045-452e-93e3-55eb190b3c1d",
    "deepnote_cell_type": "markdown"
   }
  },
  {
   "cell_type": "markdown",
   "source": "## Downloading Data",
   "metadata": {
    "tags": [],
    "cell_id": "00003-b34d0159-3821-4323-8f9f-631a65ae15d8",
    "deepnote_cell_type": "text-cell-h2"
   }
  },
  {
   "cell_type": "code",
   "metadata": {
    "tags": [],
    "deepnote_to_be_reexecuted": false,
    "source_hash": "ccfdcea",
    "execution_millis": 229,
    "execution_start": 1622965615151,
    "cell_id": "00004-2459b493-a44e-49a8-a969-2b64bb580a8d",
    "deepnote_cell_type": "code"
   },
   "source": "x_train = pd.read_csv(\"X_train.csv\")\ny_train = pd.read_csv(\"y_train.csv\")\ndefo = list(y_train.target)\nx_train['y'] = defo\nx_train = x_train[~(x_train.age == 0)]\nx_train.head()",
   "outputs": [
    {
     "output_type": "execute_result",
     "execution_count": 2,
     "data": {
      "application/vnd.deepnote.dataframe.v2+json": {
       "row_count": 5,
       "column_count": 11,
       "columns": [
        {
         "name": "credit_card_utilization",
         "dtype": "float64",
         "stats": {
          "unique_count": 5,
          "nan_count": 0,
          "min": "0.0",
          "max": "0.6795561007271846",
          "histogram": [
           {
            "bin_start": 0,
            "bin_end": 0.06795561007271847,
            "count": 2
           },
           {
            "bin_start": 0.06795561007271847,
            "bin_end": 0.13591122014543694,
            "count": 0
           },
           {
            "bin_start": 0.13591122014543694,
            "bin_end": 0.2038668302181554,
            "count": 1
           },
           {
            "bin_start": 0.2038668302181554,
            "bin_end": 0.2718224402908739,
            "count": 0
           },
           {
            "bin_start": 0.2718224402908739,
            "bin_end": 0.3397780503635923,
            "count": 0
           },
           {
            "bin_start": 0.3397780503635923,
            "bin_end": 0.4077336604363108,
            "count": 1
           },
           {
            "bin_start": 0.4077336604363108,
            "bin_end": 0.4756892705090293,
            "count": 0
           },
           {
            "bin_start": 0.4756892705090293,
            "bin_end": 0.5436448805817478,
            "count": 0
           },
           {
            "bin_start": 0.5436448805817478,
            "bin_end": 0.6116004906544662,
            "count": 0
           },
           {
            "bin_start": 0.6116004906544662,
            "bin_end": 0.6795561007271846,
            "count": 1
           }
          ]
         }
        },
        {
         "name": "age",
         "dtype": "int64",
         "stats": {
          "unique_count": 5,
          "nan_count": 0,
          "min": "45",
          "max": "75",
          "histogram": [
           {
            "bin_start": 45,
            "bin_end": 48,
            "count": 1
           },
           {
            "bin_start": 48,
            "bin_end": 51,
            "count": 1
           },
           {
            "bin_start": 51,
            "bin_end": 54,
            "count": 0
           },
           {
            "bin_start": 54,
            "bin_end": 57,
            "count": 1
           },
           {
            "bin_start": 57,
            "bin_end": 60,
            "count": 1
           },
           {
            "bin_start": 60,
            "bin_end": 63,
            "count": 0
           },
           {
            "bin_start": 63,
            "bin_end": 66,
            "count": 0
           },
           {
            "bin_start": 66,
            "bin_end": 69,
            "count": 0
           },
           {
            "bin_start": 69,
            "bin_end": 72,
            "count": 0
           },
           {
            "bin_start": 72,
            "bin_end": 75,
            "count": 1
           }
          ]
         }
        },
        {
         "name": "overdue_30_59_days",
         "dtype": "int64",
         "stats": {
          "unique_count": 2,
          "nan_count": 0,
          "min": "0",
          "max": "1",
          "histogram": [
           {
            "bin_start": 0,
            "bin_end": 0.1,
            "count": 3
           },
           {
            "bin_start": 0.1,
            "bin_end": 0.2,
            "count": 0
           },
           {
            "bin_start": 0.2,
            "bin_end": 0.30000000000000004,
            "count": 0
           },
           {
            "bin_start": 0.30000000000000004,
            "bin_end": 0.4,
            "count": 0
           },
           {
            "bin_start": 0.4,
            "bin_end": 0.5,
            "count": 0
           },
           {
            "bin_start": 0.5,
            "bin_end": 0.6000000000000001,
            "count": 0
           },
           {
            "bin_start": 0.6000000000000001,
            "bin_end": 0.7000000000000001,
            "count": 0
           },
           {
            "bin_start": 0.7000000000000001,
            "bin_end": 0.8,
            "count": 0
           },
           {
            "bin_start": 0.8,
            "bin_end": 0.9,
            "count": 0
           },
           {
            "bin_start": 0.9,
            "bin_end": 1,
            "count": 2
           }
          ]
         }
        },
        {
         "name": "debt_to_income",
         "dtype": "float64",
         "stats": {
          "unique_count": 5,
          "nan_count": 0,
          "min": "0.3903114342993517",
          "max": "2.405859550097795",
          "histogram": [
           {
            "bin_start": 0.3903114342993517,
            "bin_end": 0.591866245879196,
            "count": 3
           },
           {
            "bin_start": 0.591866245879196,
            "bin_end": 0.7934210574590403,
            "count": 0
           },
           {
            "bin_start": 0.7934210574590403,
            "bin_end": 0.9949758690388846,
            "count": 1
           },
           {
            "bin_start": 0.9949758690388846,
            "bin_end": 1.196530680618729,
            "count": 0
           },
           {
            "bin_start": 1.196530680618729,
            "bin_end": 1.3980854921985733,
            "count": 0
           },
           {
            "bin_start": 1.3980854921985733,
            "bin_end": 1.5996403037784175,
            "count": 0
           },
           {
            "bin_start": 1.5996403037784175,
            "bin_end": 1.801195115358262,
            "count": 0
           },
           {
            "bin_start": 1.801195115358262,
            "bin_end": 2.0027499269381064,
            "count": 0
           },
           {
            "bin_start": 2.0027499269381064,
            "bin_end": 2.2043047385179504,
            "count": 0
           },
           {
            "bin_start": 2.2043047385179504,
            "bin_end": 2.405859550097795,
            "count": 1
           }
          ]
         }
        },
        {
         "name": "monthly_income",
         "dtype": "float64",
         "stats": {
          "unique_count": 5,
          "nan_count": 0,
          "min": "356.5807647712664",
          "max": "24833.22761443788",
          "histogram": [
           {
            "bin_start": 356.5807647712664,
            "bin_end": 2804.2454497379276,
            "count": 1
           },
           {
            "bin_start": 2804.2454497379276,
            "bin_end": 5251.910134704589,
            "count": 1
           },
           {
            "bin_start": 5251.910134704589,
            "bin_end": 7699.57481967125,
            "count": 1
           },
           {
            "bin_start": 7699.57481967125,
            "bin_end": 10147.239504637912,
            "count": 0
           },
           {
            "bin_start": 10147.239504637912,
            "bin_end": 12594.904189604573,
            "count": 0
           },
           {
            "bin_start": 12594.904189604573,
            "bin_end": 15042.568874571234,
            "count": 0
           },
           {
            "bin_start": 15042.568874571234,
            "bin_end": 17490.233559537897,
            "count": 0
           },
           {
            "bin_start": 17490.233559537897,
            "bin_end": 19937.89824450456,
            "count": 0
           },
           {
            "bin_start": 19937.89824450456,
            "bin_end": 22385.56292947122,
            "count": 1
           },
           {
            "bin_start": 22385.56292947122,
            "bin_end": 24833.22761443788,
            "count": 1
           }
          ]
         }
        },
        {
         "name": "credits_loans",
         "dtype": "int64",
         "stats": {
          "unique_count": 4,
          "nan_count": 0,
          "min": "5",
          "max": "15",
          "histogram": [
           {
            "bin_start": 5,
            "bin_end": 6,
            "count": 1
           },
           {
            "bin_start": 6,
            "bin_end": 7,
            "count": 0
           },
           {
            "bin_start": 7,
            "bin_end": 8,
            "count": 0
           },
           {
            "bin_start": 8,
            "bin_end": 9,
            "count": 0
           },
           {
            "bin_start": 9,
            "bin_end": 10,
            "count": 2
           },
           {
            "bin_start": 10,
            "bin_end": 11,
            "count": 0
           },
           {
            "bin_start": 11,
            "bin_end": 12,
            "count": 0
           },
           {
            "bin_start": 12,
            "bin_end": 13,
            "count": 1
           },
           {
            "bin_start": 13,
            "bin_end": 14,
            "count": 0
           },
           {
            "bin_start": 14,
            "bin_end": 15,
            "count": 1
           }
          ]
         }
        },
        {
         "name": "overdue__more_than_90_days",
         "dtype": "int64",
         "stats": {
          "unique_count": 1,
          "nan_count": 0,
          "min": "0",
          "max": "0",
          "histogram": [
           {
            "bin_start": -0.5,
            "bin_end": -0.4,
            "count": 0
           },
           {
            "bin_start": -0.4,
            "bin_end": -0.3,
            "count": 0
           },
           {
            "bin_start": -0.3,
            "bin_end": -0.19999999999999996,
            "count": 0
           },
           {
            "bin_start": -0.19999999999999996,
            "bin_end": -0.09999999999999998,
            "count": 0
           },
           {
            "bin_start": -0.09999999999999998,
            "bin_end": 0,
            "count": 0
           },
           {
            "bin_start": 0,
            "bin_end": 0.10000000000000009,
            "count": 5
           },
           {
            "bin_start": 0.10000000000000009,
            "bin_end": 0.20000000000000007,
            "count": 0
           },
           {
            "bin_start": 0.20000000000000007,
            "bin_end": 0.30000000000000004,
            "count": 0
           },
           {
            "bin_start": 0.30000000000000004,
            "bin_end": 0.4,
            "count": 0
           },
           {
            "bin_start": 0.4,
            "bin_end": 0.5,
            "count": 0
           }
          ]
         }
        },
        {
         "name": "mortgage_loans",
         "dtype": "int64",
         "stats": {
          "unique_count": 4,
          "nan_count": 0,
          "min": "0",
          "max": "4",
          "histogram": [
           {
            "bin_start": 0,
            "bin_end": 0.4,
            "count": 1
           },
           {
            "bin_start": 0.4,
            "bin_end": 0.8,
            "count": 0
           },
           {
            "bin_start": 0.8,
            "bin_end": 1.2000000000000002,
            "count": 2
           },
           {
            "bin_start": 1.2000000000000002,
            "bin_end": 1.6,
            "count": 0
           },
           {
            "bin_start": 1.6,
            "bin_end": 2,
            "count": 0
           },
           {
            "bin_start": 2,
            "bin_end": 2.4000000000000004,
            "count": 0
           },
           {
            "bin_start": 2.4000000000000004,
            "bin_end": 2.8000000000000003,
            "count": 0
           },
           {
            "bin_start": 2.8000000000000003,
            "bin_end": 3.2,
            "count": 1
           },
           {
            "bin_start": 3.2,
            "bin_end": 3.6,
            "count": 0
           },
           {
            "bin_start": 3.6,
            "bin_end": 4,
            "count": 1
           }
          ]
         }
        },
        {
         "name": "overdue_60_89_days",
         "dtype": "int64",
         "stats": {
          "unique_count": 1,
          "nan_count": 0,
          "min": "0",
          "max": "0",
          "histogram": [
           {
            "bin_start": -0.5,
            "bin_end": -0.4,
            "count": 0
           },
           {
            "bin_start": -0.4,
            "bin_end": -0.3,
            "count": 0
           },
           {
            "bin_start": -0.3,
            "bin_end": -0.19999999999999996,
            "count": 0
           },
           {
            "bin_start": -0.19999999999999996,
            "bin_end": -0.09999999999999998,
            "count": 0
           },
           {
            "bin_start": -0.09999999999999998,
            "bin_end": 0,
            "count": 0
           },
           {
            "bin_start": 0,
            "bin_end": 0.10000000000000009,
            "count": 5
           },
           {
            "bin_start": 0.10000000000000009,
            "bin_end": 0.20000000000000007,
            "count": 0
           },
           {
            "bin_start": 0.20000000000000007,
            "bin_end": 0.30000000000000004,
            "count": 0
           },
           {
            "bin_start": 0.30000000000000004,
            "bin_end": 0.4,
            "count": 0
           },
           {
            "bin_start": 0.4,
            "bin_end": 0.5,
            "count": 0
           }
          ]
         }
        },
        {
         "name": "family_members",
         "dtype": "float64",
         "stats": {
          "unique_count": 4,
          "nan_count": 0,
          "min": "0.0",
          "max": "5.0",
          "histogram": [
           {
            "bin_start": 0,
            "bin_end": 0.5,
            "count": 2
           },
           {
            "bin_start": 0.5,
            "bin_end": 1,
            "count": 0
           },
           {
            "bin_start": 1,
            "bin_end": 1.5,
            "count": 0
           },
           {
            "bin_start": 1.5,
            "bin_end": 2,
            "count": 0
           },
           {
            "bin_start": 2,
            "bin_end": 2.5,
            "count": 1
           },
           {
            "bin_start": 2.5,
            "bin_end": 3,
            "count": 0
           },
           {
            "bin_start": 3,
            "bin_end": 3.5,
            "count": 1
           },
           {
            "bin_start": 3.5,
            "bin_end": 4,
            "count": 0
           },
           {
            "bin_start": 4,
            "bin_end": 4.5,
            "count": 0
           },
           {
            "bin_start": 4.5,
            "bin_end": 5,
            "count": 1
           }
          ]
         }
        },
        {
         "name": "y",
         "dtype": "int64",
         "stats": {
          "unique_count": 1,
          "nan_count": 0,
          "min": "0",
          "max": "0",
          "histogram": [
           {
            "bin_start": -0.5,
            "bin_end": -0.4,
            "count": 0
           },
           {
            "bin_start": -0.4,
            "bin_end": -0.3,
            "count": 0
           },
           {
            "bin_start": -0.3,
            "bin_end": -0.19999999999999996,
            "count": 0
           },
           {
            "bin_start": -0.19999999999999996,
            "bin_end": -0.09999999999999998,
            "count": 0
           },
           {
            "bin_start": -0.09999999999999998,
            "bin_end": 0,
            "count": 0
           },
           {
            "bin_start": 0,
            "bin_end": 0.10000000000000009,
            "count": 5
           },
           {
            "bin_start": 0.10000000000000009,
            "bin_end": 0.20000000000000007,
            "count": 0
           },
           {
            "bin_start": 0.20000000000000007,
            "bin_end": 0.30000000000000004,
            "count": 0
           },
           {
            "bin_start": 0.30000000000000004,
            "bin_end": 0.4,
            "count": 0
           },
           {
            "bin_start": 0.4,
            "bin_end": 0.5,
            "count": 0
           }
          ]
         }
        },
        {
         "name": "_deepnote_index_column",
         "dtype": "int64"
        }
       ],
       "rows_top": [
        {
         "credit_card_utilization": 0,
         "age": 56,
         "overdue_30_59_days": 0,
         "debt_to_income": 0.504328449876763,
         "monthly_income": 6823.894458066215,
         "credits_loans": 9,
         "overdue__more_than_90_days": 0,
         "mortgage_loans": 1,
         "overdue_60_89_days": 0,
         "family_members": 5,
         "y": 0,
         "_deepnote_index_column": 0
        },
        {
         "credit_card_utilization": 0.1706587328468239,
         "age": 45,
         "overdue_30_59_days": 1,
         "debt_to_income": 2.405859550097795,
         "monthly_income": 356.5807647712664,
         "credits_loans": 5,
         "overdue__more_than_90_days": 0,
         "mortgage_loans": 0,
         "overdue_60_89_days": 0,
         "family_members": 0,
         "y": 0,
         "_deepnote_index_column": 1
        },
        {
         "credit_card_utilization": 0.3421756523323267,
         "age": 75,
         "overdue_30_59_days": 1,
         "debt_to_income": 0.4450658849281116,
         "monthly_income": 20349.89582534628,
         "credits_loans": 9,
         "overdue__more_than_90_days": 0,
         "mortgage_loans": 3,
         "overdue_60_89_days": 0,
         "family_members": 0,
         "y": 0,
         "_deepnote_index_column": 2
        },
        {
         "credit_card_utilization": 0.046219051518278,
         "age": 50,
         "overdue_30_59_days": 0,
         "debt_to_income": 0.8145083088164543,
         "monthly_income": 2894.3689678793653,
         "credits_loans": 12,
         "overdue__more_than_90_days": 0,
         "mortgage_loans": 1,
         "overdue_60_89_days": 0,
         "family_members": 3,
         "y": 0,
         "_deepnote_index_column": 3
        },
        {
         "credit_card_utilization": 0.6795561007271846,
         "age": 58,
         "overdue_30_59_days": 0,
         "debt_to_income": 0.3903114342993517,
         "monthly_income": 24833.22761443788,
         "credits_loans": 15,
         "overdue__more_than_90_days": 0,
         "mortgage_loans": 4,
         "overdue_60_89_days": 0,
         "family_members": 2,
         "y": 0,
         "_deepnote_index_column": 4
        }
       ],
       "rows_bottom": null
      },
      "text/plain": "   credit_card_utilization  age  overdue_30_59_days  debt_to_income  \\\n0                 0.000000   56                   0        0.504328   \n1                 0.170659   45                   1        2.405860   \n2                 0.342176   75                   1        0.445066   \n3                 0.046219   50                   0        0.814508   \n4                 0.679556   58                   0        0.390311   \n\n   monthly_income  credits_loans  overdue__more_than_90_days  mortgage_loans  \\\n0     6823.894458              9                           0               1   \n1      356.580765              5                           0               0   \n2    20349.895825              9                           0               3   \n3     2894.368968             12                           0               1   \n4    24833.227614             15                           0               4   \n\n   overdue_60_89_days  family_members  y  \n0                   0             5.0  0  \n1                   0             0.0  0  \n2                   0             0.0  0  \n3                   0             3.0  0  \n4                   0             2.0  0  ",
      "text/html": "<div>\n<style scoped>\n    .dataframe tbody tr th:only-of-type {\n        vertical-align: middle;\n    }\n\n    .dataframe tbody tr th {\n        vertical-align: top;\n    }\n\n    .dataframe thead th {\n        text-align: right;\n    }\n</style>\n<table border=\"1\" class=\"dataframe\">\n  <thead>\n    <tr style=\"text-align: right;\">\n      <th></th>\n      <th>credit_card_utilization</th>\n      <th>age</th>\n      <th>overdue_30_59_days</th>\n      <th>debt_to_income</th>\n      <th>monthly_income</th>\n      <th>credits_loans</th>\n      <th>overdue__more_than_90_days</th>\n      <th>mortgage_loans</th>\n      <th>overdue_60_89_days</th>\n      <th>family_members</th>\n      <th>y</th>\n    </tr>\n  </thead>\n  <tbody>\n    <tr>\n      <th>0</th>\n      <td>0.000000</td>\n      <td>56</td>\n      <td>0</td>\n      <td>0.504328</td>\n      <td>6823.894458</td>\n      <td>9</td>\n      <td>0</td>\n      <td>1</td>\n      <td>0</td>\n      <td>5.0</td>\n      <td>0</td>\n    </tr>\n    <tr>\n      <th>1</th>\n      <td>0.170659</td>\n      <td>45</td>\n      <td>1</td>\n      <td>2.405860</td>\n      <td>356.580765</td>\n      <td>5</td>\n      <td>0</td>\n      <td>0</td>\n      <td>0</td>\n      <td>0.0</td>\n      <td>0</td>\n    </tr>\n    <tr>\n      <th>2</th>\n      <td>0.342176</td>\n      <td>75</td>\n      <td>1</td>\n      <td>0.445066</td>\n      <td>20349.895825</td>\n      <td>9</td>\n      <td>0</td>\n      <td>3</td>\n      <td>0</td>\n      <td>0.0</td>\n      <td>0</td>\n    </tr>\n    <tr>\n      <th>3</th>\n      <td>0.046219</td>\n      <td>50</td>\n      <td>0</td>\n      <td>0.814508</td>\n      <td>2894.368968</td>\n      <td>12</td>\n      <td>0</td>\n      <td>1</td>\n      <td>0</td>\n      <td>3.0</td>\n      <td>0</td>\n    </tr>\n    <tr>\n      <th>4</th>\n      <td>0.679556</td>\n      <td>58</td>\n      <td>0</td>\n      <td>0.390311</td>\n      <td>24833.227614</td>\n      <td>15</td>\n      <td>0</td>\n      <td>4</td>\n      <td>0</td>\n      <td>2.0</td>\n      <td>0</td>\n    </tr>\n  </tbody>\n</table>\n</div>"
     },
     "metadata": {}
    }
   ],
   "execution_count": null
  },
  {
   "cell_type": "markdown",
   "source": "## Feature engineering",
   "metadata": {
    "tags": [],
    "cell_id": "00005-de66f3d7-7afb-456f-84d3-98752c58452e",
    "deepnote_cell_type": "text-cell-h2"
   }
  },
  {
   "cell_type": "code",
   "metadata": {
    "tags": [],
    "deepnote_to_be_reexecuted": false,
    "source_hash": "2be421b7",
    "execution_start": 1622965615386,
    "execution_millis": 120,
    "cell_id": "00006-233ec71c-2d29-433e-9165-e1753fffb5cc",
    "deepnote_cell_type": "code"
   },
   "source": "des = x_train.describe()\ndes = des.append(pd.Series(data={ _:np.sum(np.isnan(x_train[_])) for _ in x_train.columns}, name='nans'), ignore_index= False)\ndes",
   "outputs": [
    {
     "output_type": "execute_result",
     "execution_count": 3,
     "data": {
      "application/vnd.deepnote.dataframe.v2+json": {
       "row_count": 9,
       "column_count": 11,
       "columns": [
        {
         "name": "credit_card_utilization",
         "dtype": "float64",
         "stats": {
          "unique_count": 8,
          "nan_count": 0,
          "min": "0.0",
          "max": "105108.0",
          "histogram": [
           {
            "bin_start": 0,
            "bin_end": 10510.8,
            "count": 7
           },
           {
            "bin_start": 10510.8,
            "bin_end": 21021.6,
            "count": 0
           },
           {
            "bin_start": 21021.6,
            "bin_end": 31532.399999999998,
            "count": 0
           },
           {
            "bin_start": 31532.399999999998,
            "bin_end": 42043.2,
            "count": 0
           },
           {
            "bin_start": 42043.2,
            "bin_end": 52554,
            "count": 1
           },
           {
            "bin_start": 52554,
            "bin_end": 63064.799999999996,
            "count": 0
           },
           {
            "bin_start": 63064.799999999996,
            "bin_end": 73575.59999999999,
            "count": 0
           },
           {
            "bin_start": 73575.59999999999,
            "bin_end": 84086.4,
            "count": 0
           },
           {
            "bin_start": 84086.4,
            "bin_end": 94597.2,
            "count": 0
           },
           {
            "bin_start": 94597.2,
            "bin_end": 105108,
            "count": 1
           }
          ]
         }
        },
        {
         "name": "age",
         "dtype": "float64",
         "stats": {
          "unique_count": 9,
          "nan_count": 0,
          "min": "0.0",
          "max": "105108.0",
          "histogram": [
           {
            "bin_start": 0,
            "bin_end": 10510.8,
            "count": 8
           },
           {
            "bin_start": 10510.8,
            "bin_end": 21021.6,
            "count": 0
           },
           {
            "bin_start": 21021.6,
            "bin_end": 31532.399999999998,
            "count": 0
           },
           {
            "bin_start": 31532.399999999998,
            "bin_end": 42043.2,
            "count": 0
           },
           {
            "bin_start": 42043.2,
            "bin_end": 52554,
            "count": 0
           },
           {
            "bin_start": 52554,
            "bin_end": 63064.799999999996,
            "count": 0
           },
           {
            "bin_start": 63064.799999999996,
            "bin_end": 73575.59999999999,
            "count": 0
           },
           {
            "bin_start": 73575.59999999999,
            "bin_end": 84086.4,
            "count": 0
           },
           {
            "bin_start": 84086.4,
            "bin_end": 94597.2,
            "count": 0
           },
           {
            "bin_start": 94597.2,
            "bin_end": 105108,
            "count": 1
           }
          ]
         }
        },
        {
         "name": "overdue_30_59_days",
         "dtype": "float64",
         "stats": {
          "unique_count": 5,
          "nan_count": 0,
          "min": "0.0",
          "max": "105108.0",
          "histogram": [
           {
            "bin_start": 0,
            "bin_end": 10510.8,
            "count": 8
           },
           {
            "bin_start": 10510.8,
            "bin_end": 21021.6,
            "count": 0
           },
           {
            "bin_start": 21021.6,
            "bin_end": 31532.399999999998,
            "count": 0
           },
           {
            "bin_start": 31532.399999999998,
            "bin_end": 42043.2,
            "count": 0
           },
           {
            "bin_start": 42043.2,
            "bin_end": 52554,
            "count": 0
           },
           {
            "bin_start": 52554,
            "bin_end": 63064.799999999996,
            "count": 0
           },
           {
            "bin_start": 63064.799999999996,
            "bin_end": 73575.59999999999,
            "count": 0
           },
           {
            "bin_start": 73575.59999999999,
            "bin_end": 84086.4,
            "count": 0
           },
           {
            "bin_start": 84086.4,
            "bin_end": 94597.2,
            "count": 0
           },
           {
            "bin_start": 94597.2,
            "bin_end": 105108,
            "count": 1
           }
          ]
         }
        },
        {
         "name": "debt_to_income",
         "dtype": "float64",
         "stats": {
          "unique_count": 8,
          "nan_count": 0,
          "min": "0.0",
          "max": "323248.21024238114",
          "histogram": [
           {
            "bin_start": 0,
            "bin_end": 32324.821024238114,
            "count": 7
           },
           {
            "bin_start": 32324.821024238114,
            "bin_end": 64649.64204847623,
            "count": 0
           },
           {
            "bin_start": 64649.64204847623,
            "bin_end": 96974.46307271434,
            "count": 0
           },
           {
            "bin_start": 96974.46307271434,
            "bin_end": 129299.28409695246,
            "count": 1
           },
           {
            "bin_start": 129299.28409695246,
            "bin_end": 161624.10512119057,
            "count": 0
           },
           {
            "bin_start": 161624.10512119057,
            "bin_end": 193948.92614542868,
            "count": 0
           },
           {
            "bin_start": 193948.92614542868,
            "bin_end": 226273.7471696668,
            "count": 0
           },
           {
            "bin_start": 226273.7471696668,
            "bin_end": 258598.5681939049,
            "count": 0
           },
           {
            "bin_start": 258598.5681939049,
            "bin_end": 290923.389218143,
            "count": 0
           },
           {
            "bin_start": 290923.389218143,
            "bin_end": 323248.21024238114,
            "count": 1
           }
          ]
         }
        },
        {
         "name": "monthly_income",
         "dtype": "float64",
         "stats": {
          "unique_count": 9,
          "nan_count": 0,
          "min": "0.0",
          "max": "1359525.5361344116",
          "histogram": [
           {
            "bin_start": 0,
            "bin_end": 135952.55361344115,
            "count": 8
           },
           {
            "bin_start": 135952.55361344115,
            "bin_end": 271905.1072268823,
            "count": 0
           },
           {
            "bin_start": 271905.1072268823,
            "bin_end": 407857.6608403234,
            "count": 0
           },
           {
            "bin_start": 407857.6608403234,
            "bin_end": 543810.2144537646,
            "count": 0
           },
           {
            "bin_start": 543810.2144537646,
            "bin_end": 679762.7680672058,
            "count": 0
           },
           {
            "bin_start": 679762.7680672058,
            "bin_end": 815715.3216806469,
            "count": 0
           },
           {
            "bin_start": 815715.3216806469,
            "bin_end": 951667.875294088,
            "count": 0
           },
           {
            "bin_start": 951667.875294088,
            "bin_end": 1087620.4289075292,
            "count": 0
           },
           {
            "bin_start": 1087620.4289075292,
            "bin_end": 1223572.9825209703,
            "count": 0
           },
           {
            "bin_start": 1223572.9825209703,
            "bin_end": 1359525.5361344116,
            "count": 1
           }
          ]
         }
        },
        {
         "name": "credits_loans",
         "dtype": "float64",
         "stats": {
          "unique_count": 8,
          "nan_count": 0,
          "min": "0.0",
          "max": "105108.0",
          "histogram": [
           {
            "bin_start": 0,
            "bin_end": 10510.8,
            "count": 8
           },
           {
            "bin_start": 10510.8,
            "bin_end": 21021.6,
            "count": 0
           },
           {
            "bin_start": 21021.6,
            "bin_end": 31532.399999999998,
            "count": 0
           },
           {
            "bin_start": 31532.399999999998,
            "bin_end": 42043.2,
            "count": 0
           },
           {
            "bin_start": 42043.2,
            "bin_end": 52554,
            "count": 0
           },
           {
            "bin_start": 52554,
            "bin_end": 63064.799999999996,
            "count": 0
           },
           {
            "bin_start": 63064.799999999996,
            "bin_end": 73575.59999999999,
            "count": 0
           },
           {
            "bin_start": 73575.59999999999,
            "bin_end": 84086.4,
            "count": 0
           },
           {
            "bin_start": 84086.4,
            "bin_end": 94597.2,
            "count": 0
           },
           {
            "bin_start": 94597.2,
            "bin_end": 105108,
            "count": 1
           }
          ]
         }
        },
        {
         "name": "overdue__more_than_90_days",
         "dtype": "float64",
         "stats": {
          "unique_count": 5,
          "nan_count": 0,
          "min": "0.0",
          "max": "105108.0",
          "histogram": [
           {
            "bin_start": 0,
            "bin_end": 10510.8,
            "count": 8
           },
           {
            "bin_start": 10510.8,
            "bin_end": 21021.6,
            "count": 0
           },
           {
            "bin_start": 21021.6,
            "bin_end": 31532.399999999998,
            "count": 0
           },
           {
            "bin_start": 31532.399999999998,
            "bin_end": 42043.2,
            "count": 0
           },
           {
            "bin_start": 42043.2,
            "bin_end": 52554,
            "count": 0
           },
           {
            "bin_start": 52554,
            "bin_end": 63064.799999999996,
            "count": 0
           },
           {
            "bin_start": 63064.799999999996,
            "bin_end": 73575.59999999999,
            "count": 0
           },
           {
            "bin_start": 73575.59999999999,
            "bin_end": 84086.4,
            "count": 0
           },
           {
            "bin_start": 84086.4,
            "bin_end": 94597.2,
            "count": 0
           },
           {
            "bin_start": 94597.2,
            "bin_end": 105108,
            "count": 1
           }
          ]
         }
        },
        {
         "name": "mortgage_loans",
         "dtype": "float64",
         "stats": {
          "unique_count": 7,
          "nan_count": 0,
          "min": "0.0",
          "max": "105108.0",
          "histogram": [
           {
            "bin_start": 0,
            "bin_end": 10510.8,
            "count": 8
           },
           {
            "bin_start": 10510.8,
            "bin_end": 21021.6,
            "count": 0
           },
           {
            "bin_start": 21021.6,
            "bin_end": 31532.399999999998,
            "count": 0
           },
           {
            "bin_start": 31532.399999999998,
            "bin_end": 42043.2,
            "count": 0
           },
           {
            "bin_start": 42043.2,
            "bin_end": 52554,
            "count": 0
           },
           {
            "bin_start": 52554,
            "bin_end": 63064.799999999996,
            "count": 0
           },
           {
            "bin_start": 63064.799999999996,
            "bin_end": 73575.59999999999,
            "count": 0
           },
           {
            "bin_start": 73575.59999999999,
            "bin_end": 84086.4,
            "count": 0
           },
           {
            "bin_start": 84086.4,
            "bin_end": 94597.2,
            "count": 0
           },
           {
            "bin_start": 94597.2,
            "bin_end": 105108,
            "count": 1
           }
          ]
         }
        },
        {
         "name": "overdue_60_89_days",
         "dtype": "float64",
         "stats": {
          "unique_count": 5,
          "nan_count": 0,
          "min": "0.0",
          "max": "105108.0",
          "histogram": [
           {
            "bin_start": 0,
            "bin_end": 10510.8,
            "count": 8
           },
           {
            "bin_start": 10510.8,
            "bin_end": 21021.6,
            "count": 0
           },
           {
            "bin_start": 21021.6,
            "bin_end": 31532.399999999998,
            "count": 0
           },
           {
            "bin_start": 31532.399999999998,
            "bin_end": 42043.2,
            "count": 0
           },
           {
            "bin_start": 42043.2,
            "bin_end": 52554,
            "count": 0
           },
           {
            "bin_start": 52554,
            "bin_end": 63064.799999999996,
            "count": 0
           },
           {
            "bin_start": 63064.799999999996,
            "bin_end": 73575.59999999999,
            "count": 0
           },
           {
            "bin_start": 73575.59999999999,
            "bin_end": 84086.4,
            "count": 0
           },
           {
            "bin_start": 84086.4,
            "bin_end": 94597.2,
            "count": 0
           },
           {
            "bin_start": 94597.2,
            "bin_end": 105108,
            "count": 1
           }
          ]
         }
        },
        {
         "name": "family_members",
         "dtype": "float64",
         "stats": {
          "unique_count": 7,
          "nan_count": 0,
          "min": "0.0",
          "max": "102303.0",
          "histogram": [
           {
            "bin_start": 0,
            "bin_end": 10230.3,
            "count": 8
           },
           {
            "bin_start": 10230.3,
            "bin_end": 20460.6,
            "count": 0
           },
           {
            "bin_start": 20460.6,
            "bin_end": 30690.899999999998,
            "count": 0
           },
           {
            "bin_start": 30690.899999999998,
            "bin_end": 40921.2,
            "count": 0
           },
           {
            "bin_start": 40921.2,
            "bin_end": 51151.5,
            "count": 0
           },
           {
            "bin_start": 51151.5,
            "bin_end": 61381.799999999996,
            "count": 0
           },
           {
            "bin_start": 61381.799999999996,
            "bin_end": 71612.09999999999,
            "count": 0
           },
           {
            "bin_start": 71612.09999999999,
            "bin_end": 81842.4,
            "count": 0
           },
           {
            "bin_start": 81842.4,
            "bin_end": 92072.7,
            "count": 0
           },
           {
            "bin_start": 92072.7,
            "bin_end": 102303,
            "count": 1
           }
          ]
         }
        },
        {
         "name": "y",
         "dtype": "float64",
         "stats": {
          "unique_count": 5,
          "nan_count": 0,
          "min": "0.0",
          "max": "105108.0",
          "histogram": [
           {
            "bin_start": 0,
            "bin_end": 10510.8,
            "count": 8
           },
           {
            "bin_start": 10510.8,
            "bin_end": 21021.6,
            "count": 0
           },
           {
            "bin_start": 21021.6,
            "bin_end": 31532.399999999998,
            "count": 0
           },
           {
            "bin_start": 31532.399999999998,
            "bin_end": 42043.2,
            "count": 0
           },
           {
            "bin_start": 42043.2,
            "bin_end": 52554,
            "count": 0
           },
           {
            "bin_start": 52554,
            "bin_end": 63064.799999999996,
            "count": 0
           },
           {
            "bin_start": 63064.799999999996,
            "bin_end": 73575.59999999999,
            "count": 0
           },
           {
            "bin_start": 73575.59999999999,
            "bin_end": 84086.4,
            "count": 0
           },
           {
            "bin_start": 84086.4,
            "bin_end": 94597.2,
            "count": 0
           },
           {
            "bin_start": 94597.2,
            "bin_end": 105108,
            "count": 1
           }
          ]
         }
        },
        {
         "name": "_deepnote_index_column",
         "dtype": "object"
        }
       ],
       "rows_top": [
        {
         "credit_card_utilization": 105108,
         "age": 105108,
         "overdue_30_59_days": 105108,
         "debt_to_income": 105108,
         "monthly_income": 84115,
         "credits_loans": 105108,
         "overdue__more_than_90_days": 105108,
         "mortgage_loans": 105108,
         "overdue_60_89_days": 105108,
         "family_members": 102303,
         "y": 105108,
         "_deepnote_index_column": "count"
        },
        {
         "credit_card_utilization": 5.825220831090287,
         "age": 53.32157400007611,
         "overdue_30_59_days": 0.4266373634737603,
         "debt_to_income": 354.1915213816758,
         "monthly_income": 6649.734420945175,
         "credits_loans": 8.956283061232256,
         "overdue__more_than_90_days": 0.2699699356852,
         "mortgage_loans": 1.0185047760398829,
         "overdue_60_89_days": 0.2443581839631617,
         "family_members": 0.7570843474775911,
         "y": 0.06689310043003387,
         "_deepnote_index_column": "mean"
        },
        {
         "credit_card_utilization": 251.0226241960854,
         "age": 14.810164243181761,
         "overdue_30_59_days": 4.251244614470914,
         "debt_to_income": 1827.1925307286185,
         "monthly_income": 11065.104306862044,
         "credits_loans": 5.182731422927606,
         "overdue__more_than_90_days": 4.227385951673485,
         "mortgage_loans": 1.1362296435630175,
         "overdue_60_89_days": 4.214037523724039,
         "family_members": 1.1165239394688966,
         "y": 0.24983796228917096,
         "_deepnote_index_column": "std"
        },
        {
         "credit_card_utilization": 0,
         "age": 21,
         "overdue_30_59_days": 0,
         "debt_to_income": 0,
         "monthly_income": 0,
         "credits_loans": 0,
         "overdue__more_than_90_days": 0,
         "mortgage_loans": 0,
         "overdue_60_89_days": 0,
         "family_members": 0,
         "y": 0,
         "_deepnote_index_column": "min"
        },
        {
         "credit_card_utilization": 0.029590761958192824,
         "age": 42,
         "overdue_30_59_days": 0,
         "debt_to_income": 0.17366812239035473,
         "monthly_income": 3343.187700405403,
         "credits_loans": 5,
         "overdue__more_than_90_days": 0,
         "mortgage_loans": 0,
         "overdue_60_89_days": 0,
         "family_members": 0,
         "y": 0,
         "_deepnote_index_column": "25%"
        },
        {
         "credit_card_utilization": 0.1537896930692367,
         "age": 53,
         "overdue_30_59_days": 0,
         "debt_to_income": 0.36503781704582094,
         "monthly_income": 5361.670819858691,
         "credits_loans": 8,
         "overdue__more_than_90_days": 0,
         "mortgage_loans": 1,
         "overdue_60_89_days": 0,
         "family_members": 0,
         "y": 0,
         "_deepnote_index_column": "50%"
        },
        {
         "credit_card_utilization": 0.5543444643874312,
         "age": 64,
         "overdue_30_59_days": 0,
         "debt_to_income": 0.880884712967004,
         "monthly_income": 8207.869755407135,
         "credits_loans": 12,
         "overdue__more_than_90_days": 0,
         "mortgage_loans": 2,
         "overdue_60_89_days": 0,
         "family_members": 1,
         "y": 0,
         "_deepnote_index_column": "75%"
        },
        {
         "credit_card_utilization": 48779.7300231001,
         "age": 111,
         "overdue_30_59_days": 98,
         "debt_to_income": 323248.21024238114,
         "monthly_income": 1359525.5361344116,
         "credits_loans": 58,
         "overdue__more_than_90_days": 98,
         "mortgage_loans": 54,
         "overdue_60_89_days": 98,
         "family_members": 20,
         "y": 1,
         "_deepnote_index_column": "max"
        },
        {
         "credit_card_utilization": 0,
         "age": 0,
         "overdue_30_59_days": 0,
         "debt_to_income": 0,
         "monthly_income": 20993,
         "credits_loans": 0,
         "overdue__more_than_90_days": 0,
         "mortgage_loans": 0,
         "overdue_60_89_days": 0,
         "family_members": 2805,
         "y": 0,
         "_deepnote_index_column": "nans"
        }
       ],
       "rows_bottom": null
      },
      "text/plain": "       credit_card_utilization            age  overdue_30_59_days  \\\ncount            105108.000000  105108.000000       105108.000000   \nmean                  5.825221      53.321574            0.426637   \nstd                 251.022624      14.810164            4.251245   \nmin                   0.000000      21.000000            0.000000   \n25%                   0.029591      42.000000            0.000000   \n50%                   0.153790      53.000000            0.000000   \n75%                   0.554344      64.000000            0.000000   \nmax               48779.730023     111.000000           98.000000   \nnans                  0.000000       0.000000            0.000000   \n\n       debt_to_income  monthly_income  credits_loans  \\\ncount   105108.000000    8.411500e+04  105108.000000   \nmean       354.191521    6.649734e+03       8.956283   \nstd       1827.192531    1.106510e+04       5.182731   \nmin          0.000000    0.000000e+00       0.000000   \n25%          0.173668    3.343188e+03       5.000000   \n50%          0.365038    5.361671e+03       8.000000   \n75%          0.880885    8.207870e+03      12.000000   \nmax     323248.210242    1.359526e+06      58.000000   \nnans         0.000000    2.099300e+04       0.000000   \n\n       overdue__more_than_90_days  mortgage_loans  overdue_60_89_days  \\\ncount               105108.000000   105108.000000       105108.000000   \nmean                     0.269970        1.018505            0.244358   \nstd                      4.227386        1.136230            4.214038   \nmin                      0.000000        0.000000            0.000000   \n25%                      0.000000        0.000000            0.000000   \n50%                      0.000000        1.000000            0.000000   \n75%                      0.000000        2.000000            0.000000   \nmax                     98.000000       54.000000           98.000000   \nnans                     0.000000        0.000000            0.000000   \n\n       family_members              y  \ncount   102303.000000  105108.000000  \nmean         0.757084       0.066893  \nstd          1.116524       0.249838  \nmin          0.000000       0.000000  \n25%          0.000000       0.000000  \n50%          0.000000       0.000000  \n75%          1.000000       0.000000  \nmax         20.000000       1.000000  \nnans      2805.000000       0.000000  ",
      "text/html": "<div>\n<style scoped>\n    .dataframe tbody tr th:only-of-type {\n        vertical-align: middle;\n    }\n\n    .dataframe tbody tr th {\n        vertical-align: top;\n    }\n\n    .dataframe thead th {\n        text-align: right;\n    }\n</style>\n<table border=\"1\" class=\"dataframe\">\n  <thead>\n    <tr style=\"text-align: right;\">\n      <th></th>\n      <th>credit_card_utilization</th>\n      <th>age</th>\n      <th>overdue_30_59_days</th>\n      <th>debt_to_income</th>\n      <th>monthly_income</th>\n      <th>credits_loans</th>\n      <th>overdue__more_than_90_days</th>\n      <th>mortgage_loans</th>\n      <th>overdue_60_89_days</th>\n      <th>family_members</th>\n      <th>y</th>\n    </tr>\n  </thead>\n  <tbody>\n    <tr>\n      <th>count</th>\n      <td>105108.000000</td>\n      <td>105108.000000</td>\n      <td>105108.000000</td>\n      <td>105108.000000</td>\n      <td>8.411500e+04</td>\n      <td>105108.000000</td>\n      <td>105108.000000</td>\n      <td>105108.000000</td>\n      <td>105108.000000</td>\n      <td>102303.000000</td>\n      <td>105108.000000</td>\n    </tr>\n    <tr>\n      <th>mean</th>\n      <td>5.825221</td>\n      <td>53.321574</td>\n      <td>0.426637</td>\n      <td>354.191521</td>\n      <td>6.649734e+03</td>\n      <td>8.956283</td>\n      <td>0.269970</td>\n      <td>1.018505</td>\n      <td>0.244358</td>\n      <td>0.757084</td>\n      <td>0.066893</td>\n    </tr>\n    <tr>\n      <th>std</th>\n      <td>251.022624</td>\n      <td>14.810164</td>\n      <td>4.251245</td>\n      <td>1827.192531</td>\n      <td>1.106510e+04</td>\n      <td>5.182731</td>\n      <td>4.227386</td>\n      <td>1.136230</td>\n      <td>4.214038</td>\n      <td>1.116524</td>\n      <td>0.249838</td>\n    </tr>\n    <tr>\n      <th>min</th>\n      <td>0.000000</td>\n      <td>21.000000</td>\n      <td>0.000000</td>\n      <td>0.000000</td>\n      <td>0.000000e+00</td>\n      <td>0.000000</td>\n      <td>0.000000</td>\n      <td>0.000000</td>\n      <td>0.000000</td>\n      <td>0.000000</td>\n      <td>0.000000</td>\n    </tr>\n    <tr>\n      <th>25%</th>\n      <td>0.029591</td>\n      <td>42.000000</td>\n      <td>0.000000</td>\n      <td>0.173668</td>\n      <td>3.343188e+03</td>\n      <td>5.000000</td>\n      <td>0.000000</td>\n      <td>0.000000</td>\n      <td>0.000000</td>\n      <td>0.000000</td>\n      <td>0.000000</td>\n    </tr>\n    <tr>\n      <th>50%</th>\n      <td>0.153790</td>\n      <td>53.000000</td>\n      <td>0.000000</td>\n      <td>0.365038</td>\n      <td>5.361671e+03</td>\n      <td>8.000000</td>\n      <td>0.000000</td>\n      <td>1.000000</td>\n      <td>0.000000</td>\n      <td>0.000000</td>\n      <td>0.000000</td>\n    </tr>\n    <tr>\n      <th>75%</th>\n      <td>0.554344</td>\n      <td>64.000000</td>\n      <td>0.000000</td>\n      <td>0.880885</td>\n      <td>8.207870e+03</td>\n      <td>12.000000</td>\n      <td>0.000000</td>\n      <td>2.000000</td>\n      <td>0.000000</td>\n      <td>1.000000</td>\n      <td>0.000000</td>\n    </tr>\n    <tr>\n      <th>max</th>\n      <td>48779.730023</td>\n      <td>111.000000</td>\n      <td>98.000000</td>\n      <td>323248.210242</td>\n      <td>1.359526e+06</td>\n      <td>58.000000</td>\n      <td>98.000000</td>\n      <td>54.000000</td>\n      <td>98.000000</td>\n      <td>20.000000</td>\n      <td>1.000000</td>\n    </tr>\n    <tr>\n      <th>nans</th>\n      <td>0.000000</td>\n      <td>0.000000</td>\n      <td>0.000000</td>\n      <td>0.000000</td>\n      <td>2.099300e+04</td>\n      <td>0.000000</td>\n      <td>0.000000</td>\n      <td>0.000000</td>\n      <td>0.000000</td>\n      <td>2805.000000</td>\n      <td>0.000000</td>\n    </tr>\n  </tbody>\n</table>\n</div>"
     },
     "metadata": {}
    }
   ],
   "execution_count": null
  },
  {
   "cell_type": "markdown",
   "source": "We can see that columns 'monthly_income' and 'family_members' has lots of nan's in it, so we should replace them. ",
   "metadata": {
    "tags": [],
    "cell_id": "00007-edcb12c0-8d6a-4887-9110-e2de4fefda14",
    "deepnote_cell_type": "markdown"
   }
  },
  {
   "cell_type": "code",
   "metadata": {
    "tags": [],
    "deepnote_to_be_reexecuted": false,
    "source_hash": "8687d37c",
    "execution_millis": 1750,
    "execution_start": 1622965615500,
    "cell_id": "00008-f463a432-361d-40c4-b394-84b3cd9ac2c3",
    "deepnote_cell_type": "code"
   },
   "source": "crm = x_train.corr()\nfig = px.imshow(crm)\nfig.update_layout(paper_bgcolor=\"rgb(1,1,1,1)\", font_color = \"rgb(255, 255, 255)\")\nfig.show()",
   "outputs": [
    {
     "data": {
      "text/html": "<html>\n<head><meta charset=\"utf-8\" /></head>\n<body>\n    <div>            <script src=\"https://cdnjs.cloudflare.com/ajax/libs/mathjax/2.7.5/MathJax.js?config=TeX-AMS-MML_SVG\"></script><script type=\"text/javascript\">if (window.MathJax) {MathJax.Hub.Config({SVG: {font: \"STIX-Web\"}});}</script>                <script type=\"text/javascript\">window.PlotlyConfig = {MathJaxConfig: 'local'};</script>\n        <script src=\"https://cdn.plot.ly/plotly-latest.min.js\"></script>                <div id=\"6d544e2e-9e3b-4a2a-aaf3-9bedd3bcfa62\" class=\"plotly-graph-div\" style=\"height:525px; width:100%;\"></div>            <script type=\"text/javascript\">                                    window.PLOTLYENV=window.PLOTLYENV || {};                                    if (document.getElementById(\"6d544e2e-9e3b-4a2a-aaf3-9bedd3bcfa62\")) {                    Plotly.newPlot(                        \"6d544e2e-9e3b-4a2a-aaf3-9bedd3bcfa62\",                        [{\"coloraxis\": \"coloraxis\", \"hovertemplate\": \"x: %{x}<br>y: %{y}<br>color: %{z}<extra></extra>\", \"name\": \"0\", \"type\": \"heatmap\", \"x\": [\"credit_card_utilization\", \"age\", \"overdue_30_59_days\", \"debt_to_income\", \"monthly_income\", \"credits_loans\", \"overdue__more_than_90_days\", \"mortgage_loans\", \"overdue_60_89_days\", \"family_members\", \"y\"], \"xaxis\": \"x\", \"y\": [\"credit_card_utilization\", \"age\", \"overdue_30_59_days\", \"debt_to_income\", \"monthly_income\", \"credits_loans\", \"overdue__more_than_90_days\", \"mortgage_loans\", \"overdue_60_89_days\", \"family_members\", \"y\"], \"yaxis\": \"y\", \"z\": [[1.0, -0.007314063701409613, -0.0012756676539164733, 0.0031546435891791178, 0.011236294736571326, -0.010075619369035201, -0.0009587301929000176, 0.003955666774798254, -0.0009446159140371618, 0.0020239216109818516, -0.0006407145365160828], [-0.007314063701409613, 1.0, -0.06436629319526777, 0.02379886513844598, 0.0489087788323061, 0.1484019377880083, -0.0622891446194782, 0.032237284421083395, -0.0584601529379514, -0.21368143742552465, -0.11622971889496761], [-0.0012756676539164733, -0.06436629319526777, 1.0, -0.007898789580898263, -0.013712274224012805, -0.0560553547026631, 0.9842474813603104, -0.03051126874259296, 0.9873644011771747, -0.00355098480173656, 0.13030070181982092], [0.0031546435891791178, 0.02379886513844598, -0.007898789580898263, 1.0, -0.037227246876034174, 0.05340541615568403, -0.009178655758347592, 0.12956112427276711, -0.008469066177703299, -0.049207774187804525, -0.008377725866291907], [0.011236294736571326, 0.0489087788323061, -0.013712274224012805, -0.037227246876034174, 1.0, 0.11743247517239094, -0.017595787227853703, 0.16419280038769038, -0.01574856435574073, 0.07587530051326292, -0.02616910906401845], [-0.010075619369035201, 0.1484019377880083, -0.0560553547026631, 0.05340541615568403, 0.11743247517239094, 1.0, -0.08064526339673954, 0.4290225119916111, -0.07178385164949673, 0.06527193102024546, -0.028205061460546403], [-0.0009587301929000176, -0.0622891446194782, 0.9842474813603104, -0.009178655758347592, -0.017595787227853703, -0.08064526339673954, 1.0, -0.04574765486573104, 0.9932823826031609, -0.011626927095323177, 0.12136605275448159], [0.003955666774798254, 0.032237284421083395, -0.03051126874259296, 0.12956112427276711, 0.16419280038769038, 0.4290225119916111, -0.04574765486573104, 1.0, -0.04020010011920799, 0.12381254999691216, -0.006807205759354519], [-0.0009446159140371618, -0.0584601529379514, 0.9873644011771747, -0.008469066177703299, -0.01574856435574073, -0.07178385164949673, 0.9932823826031609, -0.04020010011920799, 1.0, -0.012481950911042528, 0.10693093703827039], [0.0020239216109818516, -0.21368143742552465, -0.00355098480173656, -0.049207774187804525, 0.07587530051326292, 0.06527193102024546, -0.011626927095323177, 0.12381254999691216, -0.012481950911042528, 1.0, 0.049869532031849274], [-0.0006407145365160828, -0.11622971889496761, 0.13030070181982092, -0.008377725866291907, -0.02616910906401845, -0.028205061460546403, 0.12136605275448159, -0.006807205759354519, 0.10693093703827039, 0.049869532031849274, 1.0]]}],                        {\"coloraxis\": {\"colorscale\": [[0.0, \"#0d0887\"], [0.1111111111111111, \"#46039f\"], [0.2222222222222222, \"#7201a8\"], [0.3333333333333333, \"#9c179e\"], [0.4444444444444444, \"#bd3786\"], [0.5555555555555556, \"#d8576b\"], [0.6666666666666666, \"#ed7953\"], [0.7777777777777778, \"#fb9f3a\"], [0.8888888888888888, \"#fdca26\"], [1.0, \"#f0f921\"]]}, \"font\": {\"color\": \"rgb(255, 255, 255)\"}, \"margin\": {\"t\": 60}, \"paper_bgcolor\": \"rgb(1,1,1,1)\", \"template\": {\"data\": {\"bar\": [{\"error_x\": {\"color\": \"#2a3f5f\"}, \"error_y\": {\"color\": \"#2a3f5f\"}, \"marker\": {\"line\": {\"color\": \"#E5ECF6\", \"width\": 0.5}}, \"type\": \"bar\"}], \"barpolar\": [{\"marker\": {\"line\": {\"color\": \"#E5ECF6\", \"width\": 0.5}}, \"type\": \"barpolar\"}], \"carpet\": [{\"aaxis\": {\"endlinecolor\": \"#2a3f5f\", \"gridcolor\": \"white\", \"linecolor\": \"white\", \"minorgridcolor\": \"white\", \"startlinecolor\": \"#2a3f5f\"}, \"baxis\": {\"endlinecolor\": \"#2a3f5f\", \"gridcolor\": \"white\", \"linecolor\": \"white\", \"minorgridcolor\": \"white\", \"startlinecolor\": \"#2a3f5f\"}, \"type\": \"carpet\"}], \"choropleth\": [{\"colorbar\": {\"outlinewidth\": 0, \"ticks\": \"\"}, \"type\": \"choropleth\"}], \"contour\": [{\"colorbar\": {\"outlinewidth\": 0, \"ticks\": \"\"}, \"colorscale\": [[0.0, \"#0d0887\"], [0.1111111111111111, \"#46039f\"], [0.2222222222222222, \"#7201a8\"], [0.3333333333333333, \"#9c179e\"], [0.4444444444444444, \"#bd3786\"], [0.5555555555555556, \"#d8576b\"], [0.6666666666666666, \"#ed7953\"], [0.7777777777777778, \"#fb9f3a\"], [0.8888888888888888, \"#fdca26\"], [1.0, \"#f0f921\"]], \"type\": \"contour\"}], \"contourcarpet\": [{\"colorbar\": {\"outlinewidth\": 0, \"ticks\": \"\"}, \"type\": \"contourcarpet\"}], \"heatmap\": [{\"colorbar\": {\"outlinewidth\": 0, \"ticks\": \"\"}, \"colorscale\": [[0.0, \"#0d0887\"], [0.1111111111111111, \"#46039f\"], [0.2222222222222222, \"#7201a8\"], [0.3333333333333333, \"#9c179e\"], [0.4444444444444444, \"#bd3786\"], [0.5555555555555556, \"#d8576b\"], [0.6666666666666666, \"#ed7953\"], [0.7777777777777778, \"#fb9f3a\"], [0.8888888888888888, \"#fdca26\"], [1.0, \"#f0f921\"]], \"type\": \"heatmap\"}], \"heatmapgl\": [{\"colorbar\": {\"outlinewidth\": 0, \"ticks\": \"\"}, \"colorscale\": [[0.0, \"#0d0887\"], [0.1111111111111111, \"#46039f\"], [0.2222222222222222, \"#7201a8\"], [0.3333333333333333, \"#9c179e\"], [0.4444444444444444, \"#bd3786\"], [0.5555555555555556, \"#d8576b\"], [0.6666666666666666, \"#ed7953\"], [0.7777777777777778, \"#fb9f3a\"], [0.8888888888888888, \"#fdca26\"], [1.0, \"#f0f921\"]], \"type\": \"heatmapgl\"}], \"histogram\": [{\"marker\": {\"colorbar\": {\"outlinewidth\": 0, \"ticks\": \"\"}}, \"type\": \"histogram\"}], \"histogram2d\": [{\"colorbar\": {\"outlinewidth\": 0, \"ticks\": \"\"}, \"colorscale\": [[0.0, \"#0d0887\"], [0.1111111111111111, \"#46039f\"], [0.2222222222222222, \"#7201a8\"], [0.3333333333333333, \"#9c179e\"], [0.4444444444444444, \"#bd3786\"], [0.5555555555555556, \"#d8576b\"], [0.6666666666666666, \"#ed7953\"], [0.7777777777777778, \"#fb9f3a\"], [0.8888888888888888, \"#fdca26\"], [1.0, \"#f0f921\"]], \"type\": \"histogram2d\"}], \"histogram2dcontour\": [{\"colorbar\": {\"outlinewidth\": 0, \"ticks\": \"\"}, \"colorscale\": [[0.0, \"#0d0887\"], [0.1111111111111111, \"#46039f\"], [0.2222222222222222, \"#7201a8\"], [0.3333333333333333, \"#9c179e\"], [0.4444444444444444, \"#bd3786\"], [0.5555555555555556, \"#d8576b\"], [0.6666666666666666, \"#ed7953\"], [0.7777777777777778, \"#fb9f3a\"], [0.8888888888888888, \"#fdca26\"], [1.0, \"#f0f921\"]], \"type\": \"histogram2dcontour\"}], \"mesh3d\": [{\"colorbar\": {\"outlinewidth\": 0, \"ticks\": \"\"}, \"type\": \"mesh3d\"}], \"parcoords\": [{\"line\": {\"colorbar\": {\"outlinewidth\": 0, \"ticks\": \"\"}}, \"type\": \"parcoords\"}], \"pie\": [{\"automargin\": true, \"type\": \"pie\"}], \"scatter\": [{\"marker\": {\"colorbar\": {\"outlinewidth\": 0, \"ticks\": \"\"}}, \"type\": \"scatter\"}], \"scatter3d\": [{\"line\": {\"colorbar\": {\"outlinewidth\": 0, \"ticks\": \"\"}}, \"marker\": {\"colorbar\": {\"outlinewidth\": 0, \"ticks\": \"\"}}, \"type\": \"scatter3d\"}], \"scattercarpet\": [{\"marker\": {\"colorbar\": {\"outlinewidth\": 0, \"ticks\": \"\"}}, \"type\": \"scattercarpet\"}], \"scattergeo\": [{\"marker\": {\"colorbar\": {\"outlinewidth\": 0, \"ticks\": \"\"}}, \"type\": \"scattergeo\"}], \"scattergl\": [{\"marker\": {\"colorbar\": {\"outlinewidth\": 0, \"ticks\": \"\"}}, \"type\": \"scattergl\"}], \"scattermapbox\": [{\"marker\": {\"colorbar\": {\"outlinewidth\": 0, \"ticks\": \"\"}}, \"type\": \"scattermapbox\"}], \"scatterpolar\": [{\"marker\": {\"colorbar\": {\"outlinewidth\": 0, \"ticks\": \"\"}}, \"type\": \"scatterpolar\"}], \"scatterpolargl\": [{\"marker\": {\"colorbar\": {\"outlinewidth\": 0, \"ticks\": \"\"}}, \"type\": \"scatterpolargl\"}], \"scatterternary\": [{\"marker\": {\"colorbar\": {\"outlinewidth\": 0, \"ticks\": \"\"}}, \"type\": \"scatterternary\"}], \"surface\": [{\"colorbar\": {\"outlinewidth\": 0, \"ticks\": \"\"}, \"colorscale\": [[0.0, \"#0d0887\"], [0.1111111111111111, \"#46039f\"], [0.2222222222222222, \"#7201a8\"], [0.3333333333333333, \"#9c179e\"], [0.4444444444444444, \"#bd3786\"], [0.5555555555555556, \"#d8576b\"], [0.6666666666666666, \"#ed7953\"], [0.7777777777777778, \"#fb9f3a\"], [0.8888888888888888, \"#fdca26\"], [1.0, \"#f0f921\"]], \"type\": \"surface\"}], \"table\": [{\"cells\": {\"fill\": {\"color\": \"#EBF0F8\"}, \"line\": {\"color\": \"white\"}}, \"header\": {\"fill\": {\"color\": \"#C8D4E3\"}, \"line\": {\"color\": \"white\"}}, \"type\": \"table\"}]}, \"layout\": {\"annotationdefaults\": {\"arrowcolor\": \"#2a3f5f\", \"arrowhead\": 0, \"arrowwidth\": 1}, \"autotypenumbers\": \"strict\", \"coloraxis\": {\"colorbar\": {\"outlinewidth\": 0, \"ticks\": \"\"}}, \"colorscale\": {\"diverging\": [[0, \"#8e0152\"], [0.1, \"#c51b7d\"], [0.2, \"#de77ae\"], [0.3, \"#f1b6da\"], [0.4, \"#fde0ef\"], [0.5, \"#f7f7f7\"], [0.6, \"#e6f5d0\"], [0.7, \"#b8e186\"], [0.8, \"#7fbc41\"], [0.9, \"#4d9221\"], [1, \"#276419\"]], \"sequential\": [[0.0, \"#0d0887\"], [0.1111111111111111, \"#46039f\"], [0.2222222222222222, \"#7201a8\"], [0.3333333333333333, \"#9c179e\"], [0.4444444444444444, \"#bd3786\"], [0.5555555555555556, \"#d8576b\"], [0.6666666666666666, \"#ed7953\"], [0.7777777777777778, \"#fb9f3a\"], [0.8888888888888888, \"#fdca26\"], [1.0, \"#f0f921\"]], \"sequentialminus\": [[0.0, \"#0d0887\"], [0.1111111111111111, \"#46039f\"], [0.2222222222222222, \"#7201a8\"], [0.3333333333333333, \"#9c179e\"], [0.4444444444444444, \"#bd3786\"], [0.5555555555555556, \"#d8576b\"], [0.6666666666666666, \"#ed7953\"], [0.7777777777777778, \"#fb9f3a\"], [0.8888888888888888, \"#fdca26\"], [1.0, \"#f0f921\"]]}, \"colorway\": [\"#636efa\", \"#EF553B\", \"#00cc96\", \"#ab63fa\", \"#FFA15A\", \"#19d3f3\", \"#FF6692\", \"#B6E880\", \"#FF97FF\", \"#FECB52\"], \"font\": {\"color\": \"#2a3f5f\"}, \"geo\": {\"bgcolor\": \"white\", \"lakecolor\": \"white\", \"landcolor\": \"#E5ECF6\", \"showlakes\": true, \"showland\": true, \"subunitcolor\": \"white\"}, \"hoverlabel\": {\"align\": \"left\"}, \"hovermode\": \"closest\", \"mapbox\": {\"style\": \"light\"}, \"paper_bgcolor\": \"white\", \"plot_bgcolor\": \"#E5ECF6\", \"polar\": {\"angularaxis\": {\"gridcolor\": \"white\", \"linecolor\": \"white\", \"ticks\": \"\"}, \"bgcolor\": \"#E5ECF6\", \"radialaxis\": {\"gridcolor\": \"white\", \"linecolor\": \"white\", \"ticks\": \"\"}}, \"scene\": {\"xaxis\": {\"backgroundcolor\": \"#E5ECF6\", \"gridcolor\": \"white\", \"gridwidth\": 2, \"linecolor\": \"white\", \"showbackground\": true, \"ticks\": \"\", \"zerolinecolor\": \"white\"}, \"yaxis\": {\"backgroundcolor\": \"#E5ECF6\", \"gridcolor\": \"white\", \"gridwidth\": 2, \"linecolor\": \"white\", \"showbackground\": true, \"ticks\": \"\", \"zerolinecolor\": \"white\"}, \"zaxis\": {\"backgroundcolor\": \"#E5ECF6\", \"gridcolor\": \"white\", \"gridwidth\": 2, \"linecolor\": \"white\", \"showbackground\": true, \"ticks\": \"\", \"zerolinecolor\": \"white\"}}, \"shapedefaults\": {\"line\": {\"color\": \"#2a3f5f\"}}, \"ternary\": {\"aaxis\": {\"gridcolor\": \"white\", \"linecolor\": \"white\", \"ticks\": \"\"}, \"baxis\": {\"gridcolor\": \"white\", \"linecolor\": \"white\", \"ticks\": \"\"}, \"bgcolor\": \"#E5ECF6\", \"caxis\": {\"gridcolor\": \"white\", \"linecolor\": \"white\", \"ticks\": \"\"}}, \"title\": {\"x\": 0.05}, \"xaxis\": {\"automargin\": true, \"gridcolor\": \"white\", \"linecolor\": \"white\", \"ticks\": \"\", \"title\": {\"standoff\": 15}, \"zerolinecolor\": \"white\", \"zerolinewidth\": 2}, \"yaxis\": {\"automargin\": true, \"gridcolor\": \"white\", \"linecolor\": \"white\", \"ticks\": \"\", \"title\": {\"standoff\": 15}, \"zerolinecolor\": \"white\", \"zerolinewidth\": 2}}}, \"xaxis\": {\"anchor\": \"y\", \"constrain\": \"domain\", \"domain\": [0.0, 1.0], \"scaleanchor\": \"y\"}, \"yaxis\": {\"anchor\": \"x\", \"autorange\": \"reversed\", \"constrain\": \"domain\", \"domain\": [0.0, 1.0]}},                        {\"responsive\": true}                    ).then(function(){\n                            \nvar gd = document.getElementById('6d544e2e-9e3b-4a2a-aaf3-9bedd3bcfa62');\nvar x = new MutationObserver(function (mutations, observer) {{\n        var display = window.getComputedStyle(gd).display;\n        if (!display || display === 'none') {{\n            console.log([gd, 'removed!']);\n            Plotly.purge(gd);\n            observer.disconnect();\n        }}\n}});\n\n// Listen for the removal of the full notebook cells\nvar notebookContainer = gd.closest('#notebook-container');\nif (notebookContainer) {{\n    x.observe(notebookContainer, {childList: true});\n}}\n\n// Listen for the clearing of the current output cell\nvar outputEl = gd.closest('.output');\nif (outputEl) {{\n    x.observe(outputEl, {childList: true});\n}}\n\n                        })                };                            </script>        </div>\n</body>\n</html>"
     },
     "metadata": {},
     "output_type": "display_data"
    }
   ],
   "execution_count": null
  },
  {
   "cell_type": "markdown",
   "source": "From the correlation matrix we can see that family members have correlation with age",
   "metadata": {
    "tags": [],
    "cell_id": "00009-75f0d9f7-885c-4118-8a0b-d18e38207b7d",
    "deepnote_cell_type": "markdown"
   }
  },
  {
   "cell_type": "code",
   "metadata": {
    "tags": [],
    "deepnote_to_be_reexecuted": false,
    "source_hash": "ab460855",
    "execution_millis": 7659,
    "execution_start": 1622965617254,
    "cell_id": "00010-b4ac0e09-0c27-4940-8ce6-0a87d4a7931b",
    "deepnote_cell_type": "code"
   },
   "source": "plt.figure(figsize=[20,10])\nplt.ylim(0, 1.5)\nax1 = sns.barplot(\"age\", \"family_members\", data=x_train)\nax2 = ax1.set_xticklabels(ax1.get_xticklabels(),rotation=-90)",
   "outputs": [
    {
     "data": {
      "text/plain": "<Figure size 1440x720 with 1 Axes>",
      "image/png": "[encoded data removed]"
     },
     "metadata": {
      "needs_background": "light",
      "image/png": {
       "width": 1168,
       "height": 598
      }
     },
     "output_type": "display_data"
    }
   ],
   "execution_count": null
  },
  {
   "cell_type": "markdown",
   "source": "As we can see the relationship between this variables, we can replace nan's with average family members for people of this age, rather than replace it with simple mean value from whole dataset. ",
   "metadata": {
    "tags": [],
    "cell_id": "00011-a9e48596-9fd9-4a35-8598-233f72800512",
    "deepnote_cell_type": "markdown"
   }
  },
  {
   "cell_type": "code",
   "metadata": {
    "tags": [],
    "deepnote_to_be_reexecuted": false,
    "source_hash": "e9590018",
    "execution_millis": 7193,
    "execution_start": 1622965624918,
    "cell_id": "00012-d6781523-b89f-4f97-8629-8f432eb9dd95",
    "deepnote_cell_type": "code"
   },
   "source": "for i in range(len(x_train.family_members)):\n    if np.isnan(x_train.family_members.iloc[i]):\n        x_train.family_members.loc[i] = np.mean(x_train.family_members[x_train.age == x_train.age.loc[i]])\nx_train.head()",
   "outputs": [
    {
     "output_type": "execute_result",
     "execution_count": 6,
     "data": {
      "application/vnd.deepnote.dataframe.v2+json": {
       "row_count": 5,
       "column_count": 11,
       "columns": [
        {
         "name": "credit_card_utilization",
         "dtype": "float64",
         "stats": {
          "unique_count": 5,
          "nan_count": 0,
          "min": "0.0",
          "max": "0.6795561007271846",
          "histogram": [
           {
            "bin_start": 0,
            "bin_end": 0.06795561007271847,
            "count": 2
           },
           {
            "bin_start": 0.06795561007271847,
            "bin_end": 0.13591122014543694,
            "count": 0
           },
           {
            "bin_start": 0.13591122014543694,
            "bin_end": 0.2038668302181554,
            "count": 1
           },
           {
            "bin_start": 0.2038668302181554,
            "bin_end": 0.2718224402908739,
            "count": 0
           },
           {
            "bin_start": 0.2718224402908739,
            "bin_end": 0.3397780503635923,
            "count": 0
           },
           {
            "bin_start": 0.3397780503635923,
            "bin_end": 0.4077336604363108,
            "count": 1
           },
           {
            "bin_start": 0.4077336604363108,
            "bin_end": 0.4756892705090293,
            "count": 0
           },
           {
            "bin_start": 0.4756892705090293,
            "bin_end": 0.5436448805817478,
            "count": 0
           },
           {
            "bin_start": 0.5436448805817478,
            "bin_end": 0.6116004906544662,
            "count": 0
           },
           {
            "bin_start": 0.6116004906544662,
            "bin_end": 0.6795561007271846,
            "count": 1
           }
          ]
         }
        },
        {
         "name": "age",
         "dtype": "int64",
         "stats": {
          "unique_count": 5,
          "nan_count": 0,
          "min": "45",
          "max": "75",
          "histogram": [
           {
            "bin_start": 45,
            "bin_end": 48,
            "count": 1
           },
           {
            "bin_start": 48,
            "bin_end": 51,
            "count": 1
           },
           {
            "bin_start": 51,
            "bin_end": 54,
            "count": 0
           },
           {
            "bin_start": 54,
            "bin_end": 57,
            "count": 1
           },
           {
            "bin_start": 57,
            "bin_end": 60,
            "count": 1
           },
           {
            "bin_start": 60,
            "bin_end": 63,
            "count": 0
           },
           {
            "bin_start": 63,
            "bin_end": 66,
            "count": 0
           },
           {
            "bin_start": 66,
            "bin_end": 69,
            "count": 0
           },
           {
            "bin_start": 69,
            "bin_end": 72,
            "count": 0
           },
           {
            "bin_start": 72,
            "bin_end": 75,
            "count": 1
           }
          ]
         }
        },
        {
         "name": "overdue_30_59_days",
         "dtype": "int64",
         "stats": {
          "unique_count": 2,
          "nan_count": 0,
          "min": "0",
          "max": "1",
          "histogram": [
           {
            "bin_start": 0,
            "bin_end": 0.1,
            "count": 3
           },
           {
            "bin_start": 0.1,
            "bin_end": 0.2,
            "count": 0
           },
           {
            "bin_start": 0.2,
            "bin_end": 0.30000000000000004,
            "count": 0
           },
           {
            "bin_start": 0.30000000000000004,
            "bin_end": 0.4,
            "count": 0
           },
           {
            "bin_start": 0.4,
            "bin_end": 0.5,
            "count": 0
           },
           {
            "bin_start": 0.5,
            "bin_end": 0.6000000000000001,
            "count": 0
           },
           {
            "bin_start": 0.6000000000000001,
            "bin_end": 0.7000000000000001,
            "count": 0
           },
           {
            "bin_start": 0.7000000000000001,
            "bin_end": 0.8,
            "count": 0
           },
           {
            "bin_start": 0.8,
            "bin_end": 0.9,
            "count": 0
           },
           {
            "bin_start": 0.9,
            "bin_end": 1,
            "count": 2
           }
          ]
         }
        },
        {
         "name": "debt_to_income",
         "dtype": "float64",
         "stats": {
          "unique_count": 5,
          "nan_count": 0,
          "min": "0.3903114342993517",
          "max": "2.405859550097795",
          "histogram": [
           {
            "bin_start": 0.3903114342993517,
            "bin_end": 0.591866245879196,
            "count": 3
           },
           {
            "bin_start": 0.591866245879196,
            "bin_end": 0.7934210574590403,
            "count": 0
           },
           {
            "bin_start": 0.7934210574590403,
            "bin_end": 0.9949758690388846,
            "count": 1
           },
           {
            "bin_start": 0.9949758690388846,
            "bin_end": 1.196530680618729,
            "count": 0
           },
           {
            "bin_start": 1.196530680618729,
            "bin_end": 1.3980854921985733,
            "count": 0
           },
           {
            "bin_start": 1.3980854921985733,
            "bin_end": 1.5996403037784175,
            "count": 0
           },
           {
            "bin_start": 1.5996403037784175,
            "bin_end": 1.801195115358262,
            "count": 0
           },
           {
            "bin_start": 1.801195115358262,
            "bin_end": 2.0027499269381064,
            "count": 0
           },
           {
            "bin_start": 2.0027499269381064,
            "bin_end": 2.2043047385179504,
            "count": 0
           },
           {
            "bin_start": 2.2043047385179504,
            "bin_end": 2.405859550097795,
            "count": 1
           }
          ]
         }
        },
        {
         "name": "monthly_income",
         "dtype": "float64",
         "stats": {
          "unique_count": 5,
          "nan_count": 0,
          "min": "356.5807647712664",
          "max": "24833.22761443788",
          "histogram": [
           {
            "bin_start": 356.5807647712664,
            "bin_end": 2804.2454497379276,
            "count": 1
           },
           {
            "bin_start": 2804.2454497379276,
            "bin_end": 5251.910134704589,
            "count": 1
           },
           {
            "bin_start": 5251.910134704589,
            "bin_end": 7699.57481967125,
            "count": 1
           },
           {
            "bin_start": 7699.57481967125,
            "bin_end": 10147.239504637912,
            "count": 0
           },
           {
            "bin_start": 10147.239504637912,
            "bin_end": 12594.904189604573,
            "count": 0
           },
           {
            "bin_start": 12594.904189604573,
            "bin_end": 15042.568874571234,
            "count": 0
           },
           {
            "bin_start": 15042.568874571234,
            "bin_end": 17490.233559537897,
            "count": 0
           },
           {
            "bin_start": 17490.233559537897,
            "bin_end": 19937.89824450456,
            "count": 0
           },
           {
            "bin_start": 19937.89824450456,
            "bin_end": 22385.56292947122,
            "count": 1
           },
           {
            "bin_start": 22385.56292947122,
            "bin_end": 24833.22761443788,
            "count": 1
           }
          ]
         }
        },
        {
         "name": "credits_loans",
         "dtype": "int64",
         "stats": {
          "unique_count": 4,
          "nan_count": 0,
          "min": "5",
          "max": "15",
          "histogram": [
           {
            "bin_start": 5,
            "bin_end": 6,
            "count": 1
           },
           {
            "bin_start": 6,
            "bin_end": 7,
            "count": 0
           },
           {
            "bin_start": 7,
            "bin_end": 8,
            "count": 0
           },
           {
            "bin_start": 8,
            "bin_end": 9,
            "count": 0
           },
           {
            "bin_start": 9,
            "bin_end": 10,
            "count": 2
           },
           {
            "bin_start": 10,
            "bin_end": 11,
            "count": 0
           },
           {
            "bin_start": 11,
            "bin_end": 12,
            "count": 0
           },
           {
            "bin_start": 12,
            "bin_end": 13,
            "count": 1
           },
           {
            "bin_start": 13,
            "bin_end": 14,
            "count": 0
           },
           {
            "bin_start": 14,
            "bin_end": 15,
            "count": 1
           }
          ]
         }
        },
        {
         "name": "overdue__more_than_90_days",
         "dtype": "int64",
         "stats": {
          "unique_count": 1,
          "nan_count": 0,
          "min": "0",
          "max": "0",
          "histogram": [
           {
            "bin_start": -0.5,
            "bin_end": -0.4,
            "count": 0
           },
           {
            "bin_start": -0.4,
            "bin_end": -0.3,
            "count": 0
           },
           {
            "bin_start": -0.3,
            "bin_end": -0.19999999999999996,
            "count": 0
           },
           {
            "bin_start": -0.19999999999999996,
            "bin_end": -0.09999999999999998,
            "count": 0
           },
           {
            "bin_start": -0.09999999999999998,
            "bin_end": 0,
            "count": 0
           },
           {
            "bin_start": 0,
            "bin_end": 0.10000000000000009,
            "count": 5
           },
           {
            "bin_start": 0.10000000000000009,
            "bin_end": 0.20000000000000007,
            "count": 0
           },
           {
            "bin_start": 0.20000000000000007,
            "bin_end": 0.30000000000000004,
            "count": 0
           },
           {
            "bin_start": 0.30000000000000004,
            "bin_end": 0.4,
            "count": 0
           },
           {
            "bin_start": 0.4,
            "bin_end": 0.5,
            "count": 0
           }
          ]
         }
        },
        {
         "name": "mortgage_loans",
         "dtype": "int64",
         "stats": {
          "unique_count": 4,
          "nan_count": 0,
          "min": "0",
          "max": "4",
          "histogram": [
           {
            "bin_start": 0,
            "bin_end": 0.4,
            "count": 1
           },
           {
            "bin_start": 0.4,
            "bin_end": 0.8,
            "count": 0
           },
           {
            "bin_start": 0.8,
            "bin_end": 1.2000000000000002,
            "count": 2
           },
           {
            "bin_start": 1.2000000000000002,
            "bin_end": 1.6,
            "count": 0
           },
           {
            "bin_start": 1.6,
            "bin_end": 2,
            "count": 0
           },
           {
            "bin_start": 2,
            "bin_end": 2.4000000000000004,
            "count": 0
           },
           {
            "bin_start": 2.4000000000000004,
            "bin_end": 2.8000000000000003,
            "count": 0
           },
           {
            "bin_start": 2.8000000000000003,
            "bin_end": 3.2,
            "count": 1
           },
           {
            "bin_start": 3.2,
            "bin_end": 3.6,
            "count": 0
           },
           {
            "bin_start": 3.6,
            "bin_end": 4,
            "count": 1
           }
          ]
         }
        },
        {
         "name": "overdue_60_89_days",
         "dtype": "int64",
         "stats": {
          "unique_count": 1,
          "nan_count": 0,
          "min": "0",
          "max": "0",
          "histogram": [
           {
            "bin_start": -0.5,
            "bin_end": -0.4,
            "count": 0
           },
           {
            "bin_start": -0.4,
            "bin_end": -0.3,
            "count": 0
           },
           {
            "bin_start": -0.3,
            "bin_end": -0.19999999999999996,
            "count": 0
           },
           {
            "bin_start": -0.19999999999999996,
            "bin_end": -0.09999999999999998,
            "count": 0
           },
           {
            "bin_start": -0.09999999999999998,
            "bin_end": 0,
            "count": 0
           },
           {
            "bin_start": 0,
            "bin_end": 0.10000000000000009,
            "count": 5
           },
           {
            "bin_start": 0.10000000000000009,
            "bin_end": 0.20000000000000007,
            "count": 0
           },
           {
            "bin_start": 0.20000000000000007,
            "bin_end": 0.30000000000000004,
            "count": 0
           },
           {
            "bin_start": 0.30000000000000004,
            "bin_end": 0.4,
            "count": 0
           },
           {
            "bin_start": 0.4,
            "bin_end": 0.5,
            "count": 0
           }
          ]
         }
        },
        {
         "name": "family_members",
         "dtype": "float64",
         "stats": {
          "unique_count": 4,
          "nan_count": 0,
          "min": "0.0",
          "max": "5.0",
          "histogram": [
           {
            "bin_start": 0,
            "bin_end": 0.5,
            "count": 2
           },
           {
            "bin_start": 0.5,
            "bin_end": 1,
            "count": 0
           },
           {
            "bin_start": 1,
            "bin_end": 1.5,
            "count": 0
           },
           {
            "bin_start": 1.5,
            "bin_end": 2,
            "count": 0
           },
           {
            "bin_start": 2,
            "bin_end": 2.5,
            "count": 1
           },
           {
            "bin_start": 2.5,
            "bin_end": 3,
            "count": 0
           },
           {
            "bin_start": 3,
            "bin_end": 3.5,
            "count": 1
           },
           {
            "bin_start": 3.5,
            "bin_end": 4,
            "count": 0
           },
           {
            "bin_start": 4,
            "bin_end": 4.5,
            "count": 0
           },
           {
            "bin_start": 4.5,
            "bin_end": 5,
            "count": 1
           }
          ]
         }
        },
        {
         "name": "y",
         "dtype": "int64",
         "stats": {
          "unique_count": 1,
          "nan_count": 0,
          "min": "0",
          "max": "0",
          "histogram": [
           {
            "bin_start": -0.5,
            "bin_end": -0.4,
            "count": 0
           },
           {
            "bin_start": -0.4,
            "bin_end": -0.3,
            "count": 0
           },
           {
            "bin_start": -0.3,
            "bin_end": -0.19999999999999996,
            "count": 0
           },
           {
            "bin_start": -0.19999999999999996,
            "bin_end": -0.09999999999999998,
            "count": 0
           },
           {
            "bin_start": -0.09999999999999998,
            "bin_end": 0,
            "count": 0
           },
           {
            "bin_start": 0,
            "bin_end": 0.10000000000000009,
            "count": 5
           },
           {
            "bin_start": 0.10000000000000009,
            "bin_end": 0.20000000000000007,
            "count": 0
           },
           {
            "bin_start": 0.20000000000000007,
            "bin_end": 0.30000000000000004,
            "count": 0
           },
           {
            "bin_start": 0.30000000000000004,
            "bin_end": 0.4,
            "count": 0
           },
           {
            "bin_start": 0.4,
            "bin_end": 0.5,
            "count": 0
           }
          ]
         }
        },
        {
         "name": "_deepnote_index_column",
         "dtype": "int64"
        }
       ],
       "rows_top": [
        {
         "credit_card_utilization": 0,
         "age": 56,
         "overdue_30_59_days": 0,
         "debt_to_income": 0.504328449876763,
         "monthly_income": 6823.894458066215,
         "credits_loans": 9,
         "overdue__more_than_90_days": 0,
         "mortgage_loans": 1,
         "overdue_60_89_days": 0,
         "family_members": 5,
         "y": 0,
         "_deepnote_index_column": 0
        },
        {
         "credit_card_utilization": 0.1706587328468239,
         "age": 45,
         "overdue_30_59_days": 1,
         "debt_to_income": 2.405859550097795,
         "monthly_income": 356.5807647712664,
         "credits_loans": 5,
         "overdue__more_than_90_days": 0,
         "mortgage_loans": 0,
         "overdue_60_89_days": 0,
         "family_members": 0,
         "y": 0,
         "_deepnote_index_column": 1
        },
        {
         "credit_card_utilization": 0.3421756523323267,
         "age": 75,
         "overdue_30_59_days": 1,
         "debt_to_income": 0.4450658849281116,
         "monthly_income": 20349.89582534628,
         "credits_loans": 9,
         "overdue__more_than_90_days": 0,
         "mortgage_loans": 3,
         "overdue_60_89_days": 0,
         "family_members": 0,
         "y": 0,
         "_deepnote_index_column": 2
        },
        {
         "credit_card_utilization": 0.046219051518278,
         "age": 50,
         "overdue_30_59_days": 0,
         "debt_to_income": 0.8145083088164543,
         "monthly_income": 2894.3689678793653,
         "credits_loans": 12,
         "overdue__more_than_90_days": 0,
         "mortgage_loans": 1,
         "overdue_60_89_days": 0,
         "family_members": 3,
         "y": 0,
         "_deepnote_index_column": 3
        },
        {
         "credit_card_utilization": 0.6795561007271846,
         "age": 58,
         "overdue_30_59_days": 0,
         "debt_to_income": 0.3903114342993517,
         "monthly_income": 24833.22761443788,
         "credits_loans": 15,
         "overdue__more_than_90_days": 0,
         "mortgage_loans": 4,
         "overdue_60_89_days": 0,
         "family_members": 2,
         "y": 0,
         "_deepnote_index_column": 4
        }
       ],
       "rows_bottom": null
      },
      "text/plain": "   credit_card_utilization  age  overdue_30_59_days  debt_to_income  \\\n0                 0.000000   56                   0        0.504328   \n1                 0.170659   45                   1        2.405860   \n2                 0.342176   75                   1        0.445066   \n3                 0.046219   50                   0        0.814508   \n4                 0.679556   58                   0        0.390311   \n\n   monthly_income  credits_loans  overdue__more_than_90_days  mortgage_loans  \\\n0     6823.894458              9                           0               1   \n1      356.580765              5                           0               0   \n2    20349.895825              9                           0               3   \n3     2894.368968             12                           0               1   \n4    24833.227614             15                           0               4   \n\n   overdue_60_89_days  family_members  y  \n0                   0             5.0  0  \n1                   0             0.0  0  \n2                   0             0.0  0  \n3                   0             3.0  0  \n4                   0             2.0  0  ",
      "text/html": "<div>\n<style scoped>\n    .dataframe tbody tr th:only-of-type {\n        vertical-align: middle;\n    }\n\n    .dataframe tbody tr th {\n        vertical-align: top;\n    }\n\n    .dataframe thead th {\n        text-align: right;\n    }\n</style>\n<table border=\"1\" class=\"dataframe\">\n  <thead>\n    <tr style=\"text-align: right;\">\n      <th></th>\n      <th>credit_card_utilization</th>\n      <th>age</th>\n      <th>overdue_30_59_days</th>\n      <th>debt_to_income</th>\n      <th>monthly_income</th>\n      <th>credits_loans</th>\n      <th>overdue__more_than_90_days</th>\n      <th>mortgage_loans</th>\n      <th>overdue_60_89_days</th>\n      <th>family_members</th>\n      <th>y</th>\n    </tr>\n  </thead>\n  <tbody>\n    <tr>\n      <th>0</th>\n      <td>0.000000</td>\n      <td>56</td>\n      <td>0</td>\n      <td>0.504328</td>\n      <td>6823.894458</td>\n      <td>9</td>\n      <td>0</td>\n      <td>1</td>\n      <td>0</td>\n      <td>5.0</td>\n      <td>0</td>\n    </tr>\n    <tr>\n      <th>1</th>\n      <td>0.170659</td>\n      <td>45</td>\n      <td>1</td>\n      <td>2.405860</td>\n      <td>356.580765</td>\n      <td>5</td>\n      <td>0</td>\n      <td>0</td>\n      <td>0</td>\n      <td>0.0</td>\n      <td>0</td>\n    </tr>\n    <tr>\n      <th>2</th>\n      <td>0.342176</td>\n      <td>75</td>\n      <td>1</td>\n      <td>0.445066</td>\n      <td>20349.895825</td>\n      <td>9</td>\n      <td>0</td>\n      <td>3</td>\n      <td>0</td>\n      <td>0.0</td>\n      <td>0</td>\n    </tr>\n    <tr>\n      <th>3</th>\n      <td>0.046219</td>\n      <td>50</td>\n      <td>0</td>\n      <td>0.814508</td>\n      <td>2894.368968</td>\n      <td>12</td>\n      <td>0</td>\n      <td>1</td>\n      <td>0</td>\n      <td>3.0</td>\n      <td>0</td>\n    </tr>\n    <tr>\n      <th>4</th>\n      <td>0.679556</td>\n      <td>58</td>\n      <td>0</td>\n      <td>0.390311</td>\n      <td>24833.227614</td>\n      <td>15</td>\n      <td>0</td>\n      <td>4</td>\n      <td>0</td>\n      <td>2.0</td>\n      <td>0</td>\n    </tr>\n  </tbody>\n</table>\n</div>"
     },
     "metadata": {}
    }
   ],
   "execution_count": null
  },
  {
   "cell_type": "markdown",
   "source": "Also from the correlation matrix we can see that monthly income correlates with mortgage loans and credit loans, so we can make regression that will predict monthly income in missing points. ",
   "metadata": {
    "tags": [],
    "cell_id": "00013-b7b30a6d-204e-4127-8895-ac12ba4af91d",
    "deepnote_cell_type": "markdown"
   }
  },
  {
   "cell_type": "code",
   "metadata": {
    "tags": [],
    "deepnote_to_be_reexecuted": false,
    "source_hash": "dacf484e",
    "execution_millis": 11649,
    "execution_start": 1622965632102,
    "cell_id": "00014-ba1bac36-2536-40aa-a6ba-90ba8c83ce58",
    "deepnote_cell_type": "code"
   },
   "source": "to_dro = ['credit_card_utilization', 'age', 'overdue_30_59_days', 'debt_to_income', 'monthly_income', 'overdue__more_than_90_days', 'family_members', 'overdue_60_89_days', 'y']\nX = x_train.dropna().drop(columns=to_dro)\ny = x_train.dropna()['monthly_income']\nreg = sm.OLS(y, sm.add_constant(X)).fit()\nx_train_cp = x_train[x_train.monthly_income.isna()]\npred = reg.predict(sm.add_constant(x_train_cp.drop(columns=to_dro)))\nj = 0\nfor i in range(len(x_train.monthly_income)):\n    if np.isnan(x_train.monthly_income.iloc[i]):\n        x_train.monthly_income.loc[i] = pred.iloc[j]\n        j+=1",
   "outputs": [],
   "execution_count": null
  },
  {
   "cell_type": "markdown",
   "source": "Again using correlation matrix we can see we can see high correlation between three overdue columns. To avoid multicollinearity we can sum all this columns with coefficients 1,2,3 (more days of overdue - larger coefficient).\n\nAlso we can deal with family members. This variable seems to be useless on its own, but we can try to divide monthly income by it. \n\nFarther we can deal with debt/income. As we already have monthly income in the columns, then to avoid multicollinearity we can multiply monthly income by debt/income to have net debt in columns. ",
   "metadata": {
    "tags": [],
    "cell_id": "00015-7275822c-d730-4a64-b6f8-1331a45a74c8",
    "deepnote_cell_type": "markdown"
   }
  },
  {
   "cell_type": "code",
   "metadata": {
    "tags": [],
    "output_cleared": false,
    "source_hash": "7df04d8c",
    "execution_millis": 29,
    "deepnote_to_be_reexecuted": false,
    "execution_start": 1622965643758,
    "cell_id": "00016-a83dc4f8-9c1f-4dd7-a21e-92cd21a62e32",
    "deepnote_cell_type": "code"
   },
   "source": "if 'debt' not in x_train.columns:\n    x_train['debt'] = x_train.debt_to_income * x_train.monthly_income\n    x_train.drop(columns=['debt_to_income'], inplace=True)\n\nif 'overdue_30_59_days' in x_train.columns:\n    x_train['overdue'] = 0\n    x_train['overdue'] += x_train['overdue_30_59_days']\n    x_train['overdue'] += x_train['overdue_60_89_days']*2\n    x_train['overdue'] += x_train['overdue__more_than_90_days']*3\n\nif 'overdue_30_59_days' in x_train.columns:\n    x_train.drop(columns=['overdue_30_59_days', 'overdue_60_89_days', 'overdue__more_than_90_days'], inplace=True)\n\nif 'family_members' in x_train.columns:\n    x_train['monthly_income'] = x_train['monthly_income']/(x_train['family_members']+1)\n    x_train.drop(columns=['family_members'], inplace=True)",
   "outputs": [],
   "execution_count": null
  },
  {
   "cell_type": "markdown",
   "source": "# Machine learning",
   "metadata": {
    "tags": [],
    "cell_id": "00019-25112f49-a500-4459-b485-219e3e291f45",
    "deepnote_cell_type": "markdown"
   }
  },
  {
   "cell_type": "code",
   "metadata": {
    "tags": [],
    "deepnote_to_be_reexecuted": false,
    "source_hash": "382cf8c9",
    "execution_millis": 19,
    "execution_start": 1622965643790,
    "cell_id": "00021-f04c8478-bb70-4f72-b0d0-68a0b74a0a28",
    "deepnote_cell_type": "code"
   },
   "source": "x_train = x_train.dropna()\nx, x_test, y, y_test = tts(x_train.drop(columns = 'y'), x_train.y, test_size=0.33, random_state=1)",
   "outputs": [],
   "execution_count": null
  },
  {
   "cell_type": "markdown",
   "source": "For us, the most important thing is to minimize the number of real defaults that were classified as non-default, that is, after the selection of clients by the model, the bank would receive as few clients who would not be able to repay the loan, as possible. However, it is also important that the number of issued loans does not decrease significantly after the model has been run. That is why we will use two metrics to asses model's performance: FOR (False Ommition Rate) will show how many clients, of which the model offered to issue a loan, will be defaulters and FPR (False Positive Rate) will show how many of all non-defaulters were denied a loan by the model. By minimizing both metrics we will achieve the best model. ",
   "metadata": {
    "tags": [],
    "cell_id": "00020-c531e0a8-a24f-4904-baa4-4fe91d7daae4",
    "deepnote_cell_type": "markdown"
   }
  },
  {
   "cell_type": "code",
   "metadata": {
    "tags": [],
    "deepnote_to_be_reexecuted": false,
    "source_hash": "4d5eeac5",
    "execution_start": 1622965643854,
    "execution_millis": 0,
    "cell_id": "00022-0ffc7d80-a259-483a-83f7-2f5334ff8ad2",
    "deepnote_cell_type": "code"
   },
   "source": "def FOR(model):\n    cm = metrics.confusion_matrix(y_test, model.predict(x_test))\n    result = cm[1][0]/(cm[1][0]+cm[0][0])\n    return result\ndef FPR(model):\n    cm = metrics.confusion_matrix(y_test, model.predict(x_test))\n    result = cm[0][1]/(cm[0][1]+cm[0][0])\n    return result",
   "outputs": [],
   "execution_count": null
  },
  {
   "cell_type": "code",
   "metadata": {
    "tags": [],
    "deepnote_to_be_reexecuted": false,
    "source_hash": "451fd514",
    "execution_start": 1622965643855,
    "execution_millis": 16321,
    "cell_id": "00023-758de49d-5680-4a5e-b27e-82a6cf7b8756",
    "deepnote_cell_type": "code"
   },
   "source": "rf = RandomForestClassifier(max_depth=5, random_state=0,max_features= 3,n_estimators = 300).fit(x,y)\nprint(\"Random forest percentage of defaulters accepted:\", FOR(rf))\nprint(\"Random forest percentage of non-defaulters denied:\",FPR(rf))",
   "outputs": [
    {
     "name": "stdout",
     "text": "Random forest percentage of defaulters accepted: 0.06398406114250253\nRandom forest percentage of non-defaulters denied: 0.004930555555555555\n",
     "output_type": "stream"
    }
   ],
   "execution_count": null
  },
  {
   "cell_type": "markdown",
   "source": "We can see that in default setting there is very low percentage of non-defaulters denied, but there is also no significant decrease in percentage of defaulters accepted. It means that model is not quite good in terms of optimization of loan issuance. This happens because the target variable is unbalanced. Due to the fact that there are very few defaulters, therefore, the model offers to issue loans to almost everyone, which does not give us the opportunity to significantly improve our profitability. Therefore, we will work with an imbalance in the target.",
   "metadata": {
    "tags": [],
    "cell_id": "00024-4d6186b7-da9c-44b1-8402-c1c8e6dad06f",
    "deepnote_cell_type": "markdown"
   }
  },
  {
   "cell_type": "markdown",
   "source": "## Dealing with imbalanced target",
   "metadata": {
    "tags": [],
    "cell_id": "00025-70c7bb8a-4c4e-4da0-a464-f5c7dd097973",
    "deepnote_cell_type": "text-cell-h2"
   }
  },
  {
   "cell_type": "markdown",
   "source": "There are a few methods to deal with imbalanced target. We will try some under and over-sampling techniques as well as special models that rebalance target while fitting. Also we will try simply to increase treshold, oftentimes it is sufficient to have really good results. ",
   "metadata": {
    "tags": [],
    "cell_id": "00026-26633035-1ff6-47d9-b20a-54f4f3aee9c1",
    "deepnote_cell_type": "markdown"
   }
  },
  {
   "cell_type": "markdown",
   "source": "### Undersampling",
   "metadata": {
    "tags": [],
    "cell_id": "00027-fb16f2d5-805f-4e53-a3b3-354d5b2439b6",
    "deepnote_cell_type": "text-cell-h3"
   }
  },
  {
   "cell_type": "markdown",
   "source": "**Undersampling is a group of techniques that consists of reducing the data by eliminating examples belonging to the majority class with the objective of equalizing the number of examples of each class.**",
   "metadata": {
    "tags": [],
    "cell_id": "00028-b712bbfa-c4d5-49d2-99e8-a44d11e3cbb5",
    "deepnote_cell_type": "markdown"
   }
  },
  {
   "cell_type": "markdown",
   "source": "**Random undersampling**",
   "metadata": {
    "tags": [],
    "cell_id": "00029-8ba66747-e861-452d-a970-203d25943e9f",
    "deepnote_cell_type": "markdown"
   }
  },
  {
   "cell_type": "code",
   "metadata": {
    "tags": [],
    "deepnote_to_be_reexecuted": false,
    "source_hash": "b69d224b",
    "execution_start": 1622965660175,
    "execution_millis": 3506,
    "cell_id": "00030-536f0c96-15b2-4731-a9ec-a7ae214555a9",
    "deepnote_cell_type": "code"
   },
   "source": "rus = RandomUnderSampler(random_state = 1)\nX_res, y_res = rus.fit_resample(x, y)\nrf_rus = RandomForestClassifier(max_depth=5, random_state=0,max_features= 3,n_estimators = 300).fit(X_res,y_res)\nprint(\"Undersampled random forest percentage of defaulters accepted:\", FOR(rf_rus))\nprint(\"Undersampled random forest percentage of non-defaulters denied:\",FPR(rf_rus))",
   "outputs": [
    {
     "name": "stdout",
     "text": "Undersampled random forest percentage of defaulters accepted: 0.021671413314346744\nUndersampled random forest percentage of non-defaulters denied: 0.23663194444444444\n",
     "output_type": "stream"
    }
   ],
   "execution_count": null
  },
  {
   "cell_type": "markdown",
   "source": "**Neighbourhood Cleaning Rule**",
   "metadata": {
    "tags": [],
    "cell_id": "00031-2059691e-a5e6-4b61-8b75-e8b11cf06b25",
    "deepnote_cell_type": "markdown"
   }
  },
  {
   "cell_type": "code",
   "metadata": {
    "tags": [],
    "deepnote_to_be_reexecuted": false,
    "source_hash": "9f2a016d",
    "execution_start": 1622965663682,
    "execution_millis": 17154,
    "cell_id": "00032-57669e85-ba3a-46c4-8079-032e317e7156",
    "deepnote_cell_type": "code"
   },
   "source": "ncr = NeighbourhoodCleaningRule()\nX_res, y_res = ncr.fit_resample(x, y)\nrf_ncr = RandomForestClassifier(max_depth=5, random_state=0,max_features= 3,n_estimators = 300).fit(X_res,y_res)\nprint(\"Undersampled random forest percentage of defaulters accepted:\", FOR(rf_ncr))\nprint(\"Undersampled random forest percentage of non-defaulters denied:\",FPR(rf_ncr))",
   "outputs": [
    {
     "name": "stdout",
     "text": "Undersampled random forest percentage of defaulters accepted: 0.059992760061868565\nUndersampled random forest percentage of non-defaulters denied: 0.008194444444444445\n",
     "output_type": "stream"
    }
   ],
   "execution_count": null
  },
  {
   "cell_type": "markdown",
   "source": "**Tomek links**",
   "metadata": {
    "tags": [],
    "cell_id": "00033-10f3b51c-d365-447d-9250-f623252ff104",
    "deepnote_cell_type": "markdown"
   }
  },
  {
   "cell_type": "code",
   "metadata": {
    "tags": [],
    "deepnote_to_be_reexecuted": false,
    "source_hash": "23766422",
    "execution_start": 1622965680837,
    "execution_millis": 16747,
    "cell_id": "00034-0f07258e-bc01-4968-8924-7d69499daef7",
    "deepnote_cell_type": "code"
   },
   "source": "tl = TomekLinks()\nX_res, y_res = tl.fit_resample(x, y)\nrf_tl = RandomForestClassifier(max_depth=5, random_state=0,max_features= 3,n_estimators = 300).fit(X_res,y_res)\nprint(\"Undersampled random forest percentage of defaulters accepted:\", FOR(rf_tl))\nprint(\"Undersampled random forest percentage of non-defaulters denied:\",FPR(rf_tl))",
   "outputs": [
    {
     "name": "stdout",
     "text": "Undersampled random forest percentage of defaulters accepted: 0.06271275202932705\nUndersampled random forest percentage of non-defaulters denied: 0.005694444444444445\n",
     "output_type": "stream"
    }
   ],
   "execution_count": null
  },
  {
   "cell_type": "markdown",
   "source": "**Instance Hardness Threshold**",
   "metadata": {
    "tags": [],
    "cell_id": "00035-33504909-bc4d-423a-9923-dbb205c27c66",
    "deepnote_cell_type": "markdown"
   }
  },
  {
   "cell_type": "code",
   "metadata": {
    "tags": [],
    "deepnote_to_be_reexecuted": false,
    "source_hash": "7c87643c",
    "execution_start": 1622965697586,
    "execution_millis": 45347,
    "cell_id": "00036-c81aaaa6-0495-462f-ab72-8a70110ab9c6",
    "deepnote_cell_type": "code"
   },
   "source": "iht = InstanceHardnessThreshold(random_state=1)\nX_res, y_res = iht.fit_resample(x, y)\nrf_iht = RandomForestClassifier(max_depth=5, random_state=0,max_features= 3,n_estimators = 300).fit(X_res,y_res)\nprint(\"Undersampled random forest percentage of defaulters accepted:\", FOR(rf_iht))\nprint(\"Undersampled random forest percentage of non-defaulters denied:\",FPR(rf_iht))",
   "outputs": [
    {
     "name": "stdout",
     "text": "Undersampled random forest percentage of defaulters accepted: 0.019256963036024612\nUndersampled random forest percentage of non-defaulters denied: 0.2749652777777778\n",
     "output_type": "stream"
    }
   ],
   "execution_count": null
  },
  {
   "cell_type": "markdown",
   "source": "As we can see, Tomek Links and Neighbourhood Cleaning Rule do not improve situation significantly, while Random Undersampling and Instance Hardness Threshold do pretty good job, so they could be considered further. ",
   "metadata": {
    "tags": [],
    "cell_id": "00035-dd1e0698-ff8f-47ef-a5d6-7bbade7ccead",
    "deepnote_cell_type": "markdown"
   }
  },
  {
   "cell_type": "markdown",
   "source": "### Oversampling",
   "metadata": {
    "tags": [],
    "cell_id": "00035-68905ba3-7c14-408b-a61b-4bb32438e3aa",
    "deepnote_cell_type": "text-cell-h3"
   }
  },
  {
   "cell_type": "markdown",
   "source": "**Random oversampler**",
   "metadata": {
    "tags": [],
    "cell_id": "00036-d1d673f0-4c21-4772-be27-de4a12b8648b",
    "deepnote_cell_type": "markdown"
   }
  },
  {
   "cell_type": "code",
   "metadata": {
    "tags": [],
    "cell_id": "00036-2228f2cb-6df4-4807-9f7d-69a2e9090485",
    "deepnote_to_be_reexecuted": false,
    "source_hash": "db08b7d5",
    "execution_start": 1622965742934,
    "execution_millis": 26881,
    "deepnote_cell_type": "code"
   },
   "source": "ros = RandomOverSampler(random_state=1)\nX_res, y_res = ros.fit_resample(x, y)\nrf_ros = RandomForestClassifier(max_depth=5, random_state=0,max_features= 3,n_estimators = 300).fit(X_res,y_res)\nprint(\"Oversampled random forest percentage of defaulters accepted:\", FOR(rf_ros))\nprint(\"Oversampled random forest percentage of non-defaulters denied:\",FPR(rf_ros))",
   "outputs": [
    {
     "name": "stdout",
     "text": "Oversampled random forest percentage of defaulters accepted: 0.02155843001289061\nOversampled random forest percentage of non-defaulters denied: 0.23569444444444446\n",
     "output_type": "stream"
    }
   ],
   "execution_count": null
  },
  {
   "cell_type": "markdown",
   "source": "**SMOTE**",
   "metadata": {
    "tags": [],
    "cell_id": "00038-ef2d2432-0ed7-4424-aaa1-b4cae73e1aa2",
    "deepnote_cell_type": "markdown"
   }
  },
  {
   "cell_type": "code",
   "metadata": {
    "tags": [],
    "cell_id": "00037-dd41b945-1684-45ad-b414-97b90ff30cdb",
    "deepnote_to_be_reexecuted": false,
    "source_hash": "28161d8f",
    "execution_start": 1622965769816,
    "execution_millis": 26687,
    "deepnote_cell_type": "code"
   },
   "source": "smt = SMOTE(random_state=1)\nrf_smt = RandomForestClassifier(max_depth=5, random_state=0,max_features= 3,n_estimators = 300).fit(X_res,y_res)\nprint(\"Oversampled random forest percentage of defaulters accepted:\", FOR(rf_smt))\nprint(\"Oversampled random forest percentage of non-defaulters denied:\",FPR(rf_smt))",
   "outputs": [
    {
     "name": "stdout",
     "text": "Oversampled random forest percentage of defaulters accepted: 0.02155843001289061\nOversampled random forest percentage of non-defaulters denied: 0.23569444444444446\n",
     "output_type": "stream"
    }
   ],
   "execution_count": null
  },
  {
   "cell_type": "markdown",
   "source": "**SMOTE Tomek**",
   "metadata": {
    "tags": [],
    "cell_id": "00040-f95214eb-e6b6-4893-9011-c4ede272d7a4",
    "deepnote_cell_type": "markdown"
   }
  },
  {
   "cell_type": "code",
   "metadata": {
    "tags": [],
    "cell_id": "00038-f4810454-3ab0-4619-ac97-e531b00d27da",
    "deepnote_to_be_reexecuted": false,
    "source_hash": "2a559e6c",
    "execution_start": 1622965796502,
    "execution_millis": 33297,
    "deepnote_cell_type": "code"
   },
   "source": "smtt = SMOTETomek()\nX_res, y_res = smtt.fit_resample(x, y)\nrf_smtt = RandomForestClassifier(max_depth=5, random_state=0,max_features= 3,n_estimators = 300).fit(X_res,y_res)\nprint(\"Oversampled random forest percentage of defaulters accepted:\", FOR(rf_smtt))\nprint(\"Oversampled random forest percentage of non-defaulters denied:\",FPR(rf_smtt))",
   "outputs": [
    {
     "name": "stdout",
     "text": "Oversampled random forest percentage of defaulters accepted: 0.023422335331924254\nOversampled random forest percentage of non-defaulters denied: 0.21388888888888888\n",
     "output_type": "stream"
    }
   ],
   "execution_count": null
  },
  {
   "cell_type": "markdown",
   "source": "**ASASYN**",
   "metadata": {
    "tags": [],
    "cell_id": "00042-0a8c0f11-acc8-4cd2-8626-b30904cacf75",
    "deepnote_cell_type": "markdown"
   }
  },
  {
   "cell_type": "code",
   "metadata": {
    "tags": [],
    "cell_id": "00039-e169509d-1065-491b-8877-36b2e2cc4b71",
    "deepnote_to_be_reexecuted": false,
    "source_hash": "44360cbf",
    "execution_start": 1622965829800,
    "execution_millis": 32057,
    "deepnote_cell_type": "code"
   },
   "source": "ada = ADASYN(random_state=1)\nX_res, y_res = ada.fit_resample(x, y)\nrf_ada = RandomForestClassifier(max_depth=5, random_state=0,max_features= 3,n_estimators = 300).fit(X_res,y_res)\nprint(\"Oversampled random forest percentage of defaulters accepted:\", FOR(rf_ada))\nprint(\"Oversampled random forest percentage of non-defaulters denied:\",FPR(rf_ada))",
   "outputs": [
    {
     "name": "stdout",
     "text": "Oversampled random forest percentage of defaulters accepted: 0.023903536704453787\nOversampled random forest percentage of non-defaulters denied: 0.20173611111111112\n",
     "output_type": "stream"
    }
   ],
   "execution_count": null
  },
  {
   "cell_type": "markdown",
   "source": "We can see that all Oversampling techniques coped with the task of rebalancing, and showed an acceptable result, so all of them can be considered further.",
   "metadata": {
    "tags": [],
    "cell_id": "00045-9d9d7943-00c3-422e-8f7d-61f571e2744b",
    "deepnote_cell_type": "markdown"
   }
  },
  {
   "cell_type": "markdown",
   "source": "### Models that rebalance target while fitting",
   "metadata": {
    "tags": [],
    "cell_id": "00036-1acb48c4-30e1-4fee-9b09-61b7dd1f4884",
    "deepnote_cell_type": "text-cell-h3"
   }
  },
  {
   "cell_type": "markdown",
   "source": "**Balanced Random Forest**",
   "metadata": {
    "tags": [],
    "cell_id": "00042-7018f49d-0279-4049-be42-ea2039504ae7",
    "deepnote_cell_type": "markdown"
   }
  },
  {
   "cell_type": "code",
   "metadata": {
    "tags": [],
    "cell_id": "00042-9864c518-f36a-44cc-8c0c-fe9e743f699c",
    "deepnote_to_be_reexecuted": false,
    "source_hash": "af337795",
    "execution_start": 1622965861861,
    "execution_millis": 10505,
    "deepnote_cell_type": "code"
   },
   "source": "brf = BalancedRandomForestClassifier(max_depth=5, max_features=5,  random_state=1, n_estimators = 300).fit(x, y) \nprint(\"Balanced Random Forest percentage of defaulters accepted:\", FOR(brf))\nprint(\"Balanced Random Forest percentage of non-defaulters denied:\",FPR(brf))",
   "outputs": [
    {
     "name": "stdout",
     "text": "Balanced Random Forest percentage of defaulters accepted: 0.02197802197802198\nBalanced Random Forest percentage of non-defaulters denied: 0.2243402777777778\n",
     "output_type": "stream"
    }
   ],
   "execution_count": null
  },
  {
   "cell_type": "markdown",
   "source": "**Balanced Bagging**",
   "metadata": {
    "tags": [],
    "cell_id": "00044-fce639a2-392c-436b-ae8f-910d24fd846a",
    "deepnote_cell_type": "markdown"
   }
  },
  {
   "cell_type": "code",
   "metadata": {
    "tags": [],
    "cell_id": "00043-cd693c8e-2fab-4fb2-9f66-00d3bf197732",
    "deepnote_to_be_reexecuted": false,
    "source_hash": "cd1b652",
    "execution_start": 1622965872370,
    "execution_millis": 909,
    "deepnote_cell_type": "code"
   },
   "source": "bb = BalancedBaggingClassifier(random_state=1).fit(x, y) \nprint(\"Balanced Bagging percentage of defaulters accepted:\", FOR(bb))\nprint(\"Balanced Bagging percentage of non-defaulters denied:\",FPR(bb))",
   "outputs": [
    {
     "name": "stdout",
     "text": "Balanced Bagging percentage of defaulters accepted: 0.032891143191572374\nBalanced Bagging percentage of non-defaulters denied: 0.13934027777777777\n",
     "output_type": "stream"
    }
   ],
   "execution_count": null
  },
  {
   "cell_type": "markdown",
   "source": "**EasyEnsembleClassifier**",
   "metadata": {
    "tags": [],
    "cell_id": "00049-02fcbc25-c76d-410b-8d0f-eb95e292d6b4",
    "deepnote_cell_type": "markdown"
   }
  },
  {
   "cell_type": "code",
   "metadata": {
    "tags": [],
    "cell_id": "00050-2481d86c-8cd3-4413-a8ed-07bde4aab018",
    "deepnote_to_be_reexecuted": false,
    "source_hash": "b479b32b",
    "execution_start": 1622965873275,
    "execution_millis": 13836,
    "deepnote_cell_type": "code"
   },
   "source": "eec = EasyEnsembleClassifier(random_state=1).fit(x, y) \nprint(\"Easy Ensemble percentage of defaulters accepted:\", FOR(eec))\nprint(\"Easy Ensemble percentage of non-defaulters denied:\",FPR(eec))",
   "outputs": [
    {
     "name": "stdout",
     "text": "Easy Ensemble percentage of defaulters accepted: 0.02447023208879919\nEasy Ensemble percentage of non-defaulters denied: 0.194375\n",
     "output_type": "stream"
    }
   ],
   "execution_count": null
  },
  {
   "cell_type": "markdown",
   "source": "**RUSBoostClassifier**",
   "metadata": {
    "tags": [],
    "cell_id": "00050-e0a8a081-df4b-4aeb-8c6e-71a39e031cb3",
    "deepnote_cell_type": "markdown"
   }
  },
  {
   "cell_type": "code",
   "metadata": {
    "tags": [],
    "cell_id": "00052-95635d52-e1cf-444f-b190-1a2b558f0219",
    "deepnote_to_be_reexecuted": false,
    "source_hash": "1b0e2f64",
    "execution_start": 1622965887130,
    "execution_millis": 3397,
    "deepnote_cell_type": "code"
   },
   "source": "rbc = RUSBoostClassifier(random_state=1).fit(x, y) \nprint(\"RUSBoost percentage of defaulters accepted:\", FOR(rbc))\nprint(\"RUSBoost percentage of non-defaulters denied:\",FPR(rbc))",
   "outputs": [
    {
     "name": "stdout",
     "text": "RUSBoost percentage of defaulters accepted: 0.026149759256184627\nRUSBoost percentage of non-defaulters denied: 0.18534722222222222\n",
     "output_type": "stream"
    }
   ],
   "execution_count": null
  },
  {
   "cell_type": "markdown",
   "source": "Again we can see that all models have coped with the task of rebalancing, but it is really hard to asses them with default threshold, because some models are more prone to predict zeros, some are not. That is why we will use precision-recall curve to see how remaining 10 models perform with different tresholds. Also we will add a simple model without any resampling. We will limit graph from 0.2 to 1 on precision axis since we are not interested in lower values because precision shows us ratio of correctly predicted defaulters over all predicted defaulters, which means that very low value of it indicates that there are too many rejections and it will not lead to an increase in profit. ",
   "metadata": {
    "tags": [],
    "cell_id": "00055-54a363dd-bc5e-47d9-aefd-795fae2377dc",
    "deepnote_cell_type": "markdown"
   }
  },
  {
   "cell_type": "markdown",
   "source": "## Model evaluation ",
   "metadata": {
    "tags": [],
    "cell_id": "00056-353d285e-d558-464f-b4fd-29da899f54a4",
    "deepnote_cell_type": "text-cell-h2"
   }
  },
  {
   "cell_type": "code",
   "metadata": {
    "tags": [],
    "cell_id": "00054-2e01dca1-9e37-417b-bb4a-7664286f66fc",
    "deepnote_to_be_reexecuted": false,
    "source_hash": "22b971c4",
    "execution_start": 1622965890531,
    "execution_millis": 9,
    "deepnote_cell_type": "code"
   },
   "source": "def get_prc(model):\n    lr_probs = model.predict_proba(x_test)[:, 1]\n    yhat = model.predict(x_test)\n    lr_precision, lr_recall, _ = precision_recall_curve(y_test, lr_probs)\n    return (lr_precision, lr_recall)",
   "outputs": [],
   "execution_count": null
  },
  {
   "cell_type": "code",
   "metadata": {
    "tags": [],
    "cell_id": "00055-64fff82a-4d50-406e-a36c-a871cb94bc58",
    "deepnote_to_be_reexecuted": false,
    "source_hash": "1bd6750e",
    "execution_start": 1622965890547,
    "execution_millis": 34390,
    "deepnote_cell_type": "code"
   },
   "source": "mdls = [rf_rus, rf_iht, rf_ros, rf_smt, rf_smtt, rf_ada, brf, bb, eec, rbc]\nnames = ['Random Undersampling', 'Instance Hardness', 'Random Oversampling', 'SMOTE', 'SMOTETomek', 'ADASYN', str(brf).split('(')[0], str(bb).split('(')[0], str(eec).split('(')[0], str(rbc).split('(')[0]]\nplt.figure(figsize=[10,10])\n\nfor i in range(len(mdls)):\n    a,b = get_prc(mdls[i])\n    plt.plot(a,b, label=names[i])\n\nrf = RandomForestClassifier(max_depth=5, random_state=0,max_features= 3,n_estimators = 300).fit(x,y)\na,b = get_prc(rf)\nplt.plot(a,b, label='No resampling', color = 'black')\n\nplt.ylim([0.2, 1])\nplt.xlim([0, 0.8])\nplt.xlabel('Recall')\nplt.ylabel('Precision')\nplt.legend()\nplt.show()",
   "outputs": [
    {
     "data": {
      "text/plain": "<Figure size 720x720 with 1 Axes>",
      "image/png": "[encoded data removed]"
     },
     "metadata": {
      "needs_background": "light",
      "image/png": {
       "width": 617,
       "height": 593
      }
     },
     "output_type": "display_data"
    }
   ],
   "execution_count": null
  },
  {
   "cell_type": "markdown",
   "source": "We can see that there are 5 models that perform better than others: No resampling, Easy Ensemble, Balanced Random Forest, Random Underdampling, Random Oversampling. Now we will test them in terms of best profit that they can give us. We will assume that average debt on credit card is the same for clients who default and not default. Also we will assume that that in case of default we lose all the money that client paid from his credit card and we will use interest rate of 20, because it is most near value to the real credit card interests in US dollars now.",
   "metadata": {
    "tags": [],
    "cell_id": "00059-6a17ca8c-361c-48c3-a6d7-4a9aa36ea51d",
    "deepnote_cell_type": "markdown"
   }
  },
  {
   "cell_type": "markdown",
   "source": "**new FOR, FPR**",
   "metadata": {
    "tags": [],
    "cell_id": "00056-16b1098f-8f37-4239-b02e-4e8221d0fd69",
    "deepnote_cell_type": "markdown"
   }
  },
  {
   "cell_type": "code",
   "metadata": {
    "tags": [],
    "cell_id": "00056-bee924a8-49d4-4867-927f-9a8f39d8ef49",
    "deepnote_to_be_reexecuted": false,
    "source_hash": "dee920ed",
    "execution_start": 1622965924973,
    "execution_millis": 0,
    "deepnote_cell_type": "code"
   },
   "source": "def FOR(model, thrs):\n    cm = metrics.confusion_matrix(y_test, (model.predict_proba(x_test)[:,1] > thrs).astype(int))\n    result = cm[1][0]/(cm[1][0]+cm[0][0])\n    return result\ndef FPR(model, thrs):\n    cm = metrics.confusion_matrix(y_test, (model.predict_proba(x_test)[:,1] > thrs).astype(int))\n    result = cm[0][1]/(cm[0][1]+cm[0][0])\n    return result",
   "outputs": [],
   "execution_count": null
  },
  {
   "cell_type": "markdown",
   "source": "# Profitability of the model",
   "metadata": {
    "tags": [],
    "cell_id": "00035-ce95f1dd-df95-4a43-addc-b1a8a28ad1cd",
    "deepnote_cell_type": "text-cell-h1"
   }
  },
  {
   "cell_type": "code",
   "metadata": {
    "tags": [],
    "cell_id": "00037-5a057653-75de-4b9d-889c-50bb662a45ef",
    "deepnote_to_be_reexecuted": false,
    "source_hash": "4daa27c7",
    "execution_start": 1622965924974,
    "execution_millis": 0,
    "deepnote_cell_type": "code"
   },
   "source": "def ins(n, i):\n    return n[:i] + ' ' + n[i:]\ndef bnumber(n):\n    n = str(n)\n    for i in range(len(n)-3, 0, -3):\n        n = ins(n, i)\n    return n",
   "outputs": [],
   "execution_count": null
  },
  {
   "cell_type": "code",
   "metadata": {
    "tags": [],
    "cell_id": "00036-2e0c33f7-f2c3-44fa-b653-a7dbf91b7f83",
    "deepnote_to_be_reexecuted": false,
    "source_hash": "1d00f36e",
    "execution_start": 1622965924975,
    "execution_millis": 8,
    "deepnote_cell_type": "code"
   },
   "source": "check = x_test.copy()\ncheck['y'] = y_test\ncheck['profit'] = 0\ncheck['profit'][check.y == 0] = 0.2*(check[check.y == 0].monthly_income)/2\ncheck['profit'][check.y == 1] = -1*(check[check.y == 1].monthly_income)/2\ndef_pro = check.profit.sum()\nprint('Revenue before using model:', bnumber(round(def_pro)))",
   "outputs": [
    {
     "name": "stdout",
     "text": "Revenue before using model: 9 124 896\n",
     "output_type": "stream"
    }
   ],
   "execution_count": null
  },
  {
   "cell_type": "code",
   "metadata": {
    "tags": [],
    "cell_id": "00035-ec685285-672d-4287-843e-9680ba100c9c",
    "deepnote_to_be_reexecuted": false,
    "source_hash": "c3a1d563",
    "execution_start": 1622965924979,
    "execution_millis": 81175,
    "deepnote_cell_type": "code"
   },
   "source": "mdls = [rf_rus, rf_ros, brf, eec, rf]\nnames = ['Random Undersampling', 'Random Oversampling', str(brf).split('(')[0], str(eec).split('(')[0], 'No resampling']\nfor j in range(len(mdls)):\n    best = 0\n    for i in np.arange(0.05, 0.91, 0.05):\n        check['pred'] = mdls[j].predict_proba(x_test)[:,1]\n        prft = check[check.pred <= i].profit.sum()\n        if prft > best:\n            best = prft\n            bi = i\n    print(names[j], f\"Best revenue: {bnumber(round(best))},\", \"best threshold:\", round(bi, 2))",
   "outputs": [
    {
     "name": "stdout",
     "text": "Random Undersampling Best revenue: 10 427 315, best threshold: 0.7\nRandom Oversampling Best revenue: 10 391 970, best threshold: 0.7\nBalancedRandomForestClassifier Best revenue: 10 401 801, best threshold: 0.7\nEasyEnsembleClassifier Best revenue: 9 950 070, best threshold: 0.5\nNo resampling Best revenue: 10 382 196, best threshold: 0.15\n",
     "output_type": "stream"
    }
   ],
   "execution_count": null
  },
  {
   "cell_type": "markdown",
   "source": "We can see that we could consider further two most profitable models: Random Undersampling and Balanced Random Forest because they both reached 10 400 000 level.\n\nNow, as one of two best resampling strategies is Random Undersampling we can use it not only with Random Forest, but try other models. ",
   "metadata": {
    "tags": [],
    "cell_id": "00066-f706f821-795e-4a9a-861e-6dcc48221716",
    "deepnote_cell_type": "markdown"
   }
  },
  {
   "cell_type": "code",
   "source": "rus = RandomUnderSampler(random_state = 1)\nX_res, y_res = rus.fit_resample(x, y)",
   "metadata": {
    "tags": [],
    "cell_id": "00067-709d5811-45a0-4fe9-856d-7343216be18f",
    "deepnote_to_be_reexecuted": false,
    "source_hash": "3a0353b0",
    "execution_start": 1622966006151,
    "execution_millis": 52,
    "deepnote_cell_type": "code"
   },
   "outputs": [],
   "execution_count": null
  },
  {
   "cell_type": "markdown",
   "source": "**Light GBM**",
   "metadata": {
    "tags": [],
    "cell_id": "00068-22fba63f-2b3c-4451-a8dc-dd952f178ed0",
    "deepnote_cell_type": "markdown"
   }
  },
  {
   "cell_type": "code",
   "source": "lgbm = LGBMClassifier(random_state=1, max_depth=4, n_estimators=100).fit(X_res, y_res)\nbest_lgbm = 0\nfor i in np.arange(0.05, 0.91, 0.05):\n    check['pred'] = lgbm.predict_proba(x_test)[:,1]\n    prft = check[check.pred <= i].profit.sum()\n    if prft > best_lgbm:\n        best_lgbm = prft\n        bi_lgbm = i\nprint(f\"Lgbm profit: {bnumber(round(best_lgbm))},\", \"best threshold:\", round(bi_lgbm, 2))",
   "metadata": {
    "tags": [],
    "cell_id": "00068-78bd68f1-5836-482e-a986-eb4a360e1ff0",
    "deepnote_to_be_reexecuted": false,
    "source_hash": "a14fd8c3",
    "execution_start": 1622966006203,
    "execution_millis": 2736,
    "deepnote_cell_type": "code"
   },
   "outputs": [
    {
     "name": "stdout",
     "text": "Lgbm profit: 10 411 304, best threshold: 0.75\n",
     "output_type": "stream"
    }
   ],
   "execution_count": null
  },
  {
   "cell_type": "markdown",
   "source": "**CatBoost**",
   "metadata": {
    "tags": [],
    "cell_id": "00070-1769bd3c-49ed-4f28-80ad-2a9245dc25c7",
    "deepnote_cell_type": "markdown"
   }
  },
  {
   "cell_type": "code",
   "source": "cat = CatBoostClassifier(random_state=1, learning_rate = 0.05, iterations = 200, max_depth = 6, silent=True).fit(X_res, y_res)\nbest_cat = 0\nfor i in np.arange(0.05, 0.91, 0.05):\n    check['pred'] = cat.predict_proba(x_test)[:,1]\n    prft = check[check.pred <= i].profit.sum()\n    if prft > best_cat:\n        best_cat = prft\n        bi_cat = i\n# print('CatBoost profit:', round(best_cat), '\\nBest threshold:', round(bi_cat, 2))\nprint(f\"CatBoost profit: {bnumber(round(best_cat))},\", \"best threshold:\", round(bi_cat, 2))\n",
   "metadata": {
    "tags": [],
    "cell_id": "00070-807138f3-2199-4a32-a9a3-41e5c9b138cd",
    "deepnote_to_be_reexecuted": false,
    "source_hash": "ae9f0133",
    "execution_start": 1622966008946,
    "execution_millis": 2214,
    "deepnote_cell_type": "code"
   },
   "outputs": [
    {
     "name": "stdout",
     "text": "CatBoost profit: 10 440 709, best threshold: 0.75\n",
     "output_type": "stream"
    }
   ],
   "execution_count": null
  },
  {
   "cell_type": "markdown",
   "source": "**XGBoost**",
   "metadata": {
    "tags": [],
    "cell_id": "00072-80628731-a7e9-48c2-9176-5836eb0a2fc7",
    "deepnote_cell_type": "markdown"
   }
  },
  {
   "cell_type": "code",
   "source": "xgb = XGBClassifier(random_state=1, learning_rate = 0.05, max_depth = 2, min_child_weight = 6, eval_metric = 'logloss').fit(X_res, y_res)\nbest_xgb = 0\nfor i in np.arange(0.05, 0.91, 0.05):\n    check['pred'] = xgb.predict_proba(x_test)[:,1]\n    prft = check[check.pred <= i].profit.sum()\n    if prft > best_xgb:\n        best_xgb = prft\n        bi_xgb = i\nprint(f\"XGBoost profit: {bnumber(round(best_xgb))},\", \"best threshold:\", round(bi_xgb, 2))\n# print('XGBoost profit:', round(best_xgb), '\\nBest threshold:', round(bi_xgb, 2))",
   "metadata": {
    "tags": [],
    "cell_id": "00071-49c48cdb-1944-449f-afee-3b02d68e7043",
    "deepnote_to_be_reexecuted": false,
    "source_hash": "d0832896",
    "execution_start": 1622966011168,
    "execution_millis": 2509,
    "deepnote_cell_type": "code"
   },
   "outputs": [
    {
     "name": "stdout",
     "text": "XGBoost profit: 10 446 131, best threshold: 0.7\n",
     "output_type": "stream"
    }
   ],
   "execution_count": null
  },
  {
   "cell_type": "markdown",
   "source": "**Gradient Boosting Classifier**",
   "metadata": {
    "tags": [],
    "cell_id": "00074-8adcdc0f-18ea-44fa-a015-c3dbde81f054",
    "deepnote_cell_type": "markdown"
   }
  },
  {
   "cell_type": "code",
   "source": "gbc = GradientBoostingClassifier(random_state=1, learning_rate = 0.003, max_depth = 3, n_estimators = 500, subsample = 0.4).fit(X_res, y_res)\nbest_gbc = 0\nfor i in np.arange(0.05, 0.91, 0.05):\n    check['pred'] = gbc.predict_proba(x_test)[:,1]\n    prft = check[check.pred <= i].profit.sum()\n    if prft > best_gbc:\n        best_gbc = prft\n        bi_gbc = i\nprint(f\"GBC profit: {bnumber(round(best_gbc))},\", \"best threshold:\", round(bi_gbc, 2))\n# print('GBC profit:', round(best_gbc), '\\nBest threshold:', round(bi_gbc, 2))",
   "metadata": {
    "tags": [],
    "cell_id": "00072-b27bbf98-9a73-4e27-b38e-d553dea8dd58",
    "deepnote_to_be_reexecuted": false,
    "source_hash": "6146da0c",
    "execution_start": 1622966013671,
    "execution_millis": 10254,
    "deepnote_cell_type": "code"
   },
   "outputs": [
    {
     "name": "stdout",
     "text": "GBC profit: 10 398 508, best threshold: 0.65\n",
     "output_type": "stream"
    }
   ],
   "execution_count": null
  },
  {
   "cell_type": "markdown",
   "source": "**Stacking with Random Forest**",
   "metadata": {
    "tags": [],
    "cell_id": "00076-f1df88d0-26ea-4c8c-91e3-1b122760ce78",
    "deepnote_cell_type": "markdown"
   }
  },
  {
   "cell_type": "code",
   "source": "stc = StackingClassifier(estimators=[('rf',rf), ('xgb', xgb), ('cat', cat)], final_estimator=LogisticRegression()).fit(X_res, y_res)\nbest_stc = 0\nfor i in np.arange(0.05, 0.91, 0.05):\n    check['pred'] = stc.predict_proba(x_test)[:,1]\n    prft = check[check.pred <= i].profit.sum()\n    if prft > best_stc:\n        best_stc = prft\n        bi_stc = i\nprint(f\"Stacking with RF profit: {bnumber(round(best_stc))},\", \"best threshold:\", round(bi_stc, 2))\n# print('Stacking with RF profit:', round(best_stc), '\\nBest threshold:', round(bi_stc, 2))",
   "metadata": {
    "tags": [],
    "cell_id": "00073-dfa116f6-9f9d-4e0a-bcac-5bc2deed43af",
    "deepnote_to_be_reexecuted": false,
    "source_hash": "1dc0226e",
    "execution_start": 1622966023919,
    "execution_millis": 42256,
    "deepnote_cell_type": "code"
   },
   "outputs": [
    {
     "name": "stdout",
     "text": "Stacking with RF profit: 10 492 735, best threshold: 0.75\n",
     "output_type": "stream"
    }
   ],
   "execution_count": null
  },
  {
   "cell_type": "markdown",
   "source": "**Stacking with Balanced Random Forest**",
   "metadata": {
    "tags": [],
    "cell_id": "00078-c47f989a-4e81-4b48-b2fb-2d3505b14f9b",
    "deepnote_cell_type": "markdown"
   }
  },
  {
   "cell_type": "code",
   "source": "stc2 = StackingClassifier(estimators=[('brf',brf), ('xgb', xgb), ('cat', cat)], final_estimator=LogisticRegression()).fit(X_res, y_res)\nbest_stc2 = 0\nfor i in np.arange(0.05, 0.91, 0.05):\n    check['pred'] = stc2.predict_proba(x_test)[:,1]\n    prft = check[check.pred <= i].profit.sum()\n    if prft > best_stc2:\n        best_stc2 = prft\n        bi_stc2 = i\nprint(f\"Stacking with balanced RF profit: {bnumber(round(best_stc2))},\", \"best threshold:\", round(bi_stc2, 2))\n# print('Stacking with RF profit:', round(best_stc2), '\\nBest threshold:', round(bi_stc2, 2))",
   "metadata": {
    "tags": [],
    "cell_id": "00074-ed692935-1998-432a-8353-17dbf0f19825",
    "deepnote_to_be_reexecuted": false,
    "source_hash": "a5d039eb",
    "execution_start": 1622966066156,
    "execution_millis": 44160,
    "deepnote_cell_type": "code"
   },
   "outputs": [
    {
     "name": "stdout",
     "text": "Stacking with balanced RF profit: 10 500 455, best threshold: 0.75\n",
     "output_type": "stream"
    }
   ],
   "execution_count": null
  },
  {
   "cell_type": "markdown",
   "source": "# Results",
   "metadata": {
    "tags": [],
    "cell_id": "00080-a0d7363a-248e-4bc6-be58-9e9dc29e6b06",
    "deepnote_cell_type": "text-cell-h1"
   }
  },
  {
   "cell_type": "code",
   "source": "rf = RandomForestClassifier(max_depth=5, random_state=0,max_features= 3,n_estimators = 300).fit(X_res,y_res)\nbest_rf = 0\nfor i in np.arange(0.05, 0.91, 0.05):\n    check['pred'] = rf.predict_proba(x_test)[:,1]\n    prft = check[check.pred <= i].profit.sum()\n    if prft > best_rf:\n        best_rf = prft\n        bi_rf = i\nprint(f\"Random Forest profit: {bnumber(round(best_rf))},\", \"best threshold:\", round(bi_rf, 2))\n# print('Random Forest profit:', round(best_rf), '\\nBest threshold:', round(bi_rf, 2))",
   "metadata": {
    "tags": [],
    "cell_id": "00075-982f256d-3a82-4a99-8a06-1cee33cdc54e",
    "deepnote_to_be_reexecuted": false,
    "source_hash": "75c501ab",
    "execution_start": 1622966110311,
    "execution_millis": 14045,
    "deepnote_cell_type": "code"
   },
   "outputs": [
    {
     "name": "stdout",
     "text": "Random Forest profit: 10 427 315, best threshold: 0.7\n",
     "output_type": "stream"
    }
   ],
   "execution_count": null
  },
  {
   "cell_type": "code",
   "source": "brf = BalancedRandomForestClassifier(max_depth=5, max_features=5,  random_state=1, n_estimators = 300).fit(x, y) \nbest_brf = 0\nfor i in np.arange(0.05, 0.91, 0.05):\n    check['pred'] = brf.predict_proba(x_test)[:,1]\n    prft = check[check.pred <= i].profit.sum()\n    if prft > best_brf:\n        best_brf = prft\n        bi_brf = i\nprint(f\"Balanced Random Forest profit: {bnumber(round(best_brf))},\", \"best threshold:\", round(bi_brf, 2))\n# print('Balanced Random Forest profit:', round(best_brf), '\\nBest threshold:', round(bi_brf, 2))",
   "metadata": {
    "tags": [],
    "cell_id": "00076-51d2c8d0-1db3-43c2-9e49-fdfcd1a53914",
    "deepnote_to_be_reexecuted": false,
    "source_hash": "4f241b76",
    "execution_start": 1622966124358,
    "execution_millis": 19628,
    "deepnote_cell_type": "code"
   },
   "outputs": [
    {
     "name": "stdout",
     "text": "Balanced Random Forest profit: 10 401 801, best threshold: 0.7\n",
     "output_type": "stream"
    }
   ],
   "execution_count": null
  },
  {
   "cell_type": "code",
   "source": "def iip (best_res):\n    return f'{round(((best_res/def_pro)-1)*100, 2)}%'",
   "metadata": {
    "tags": [],
    "cell_id": "00077-f6bcceda-a105-4040-a9d0-5f887246368e",
    "deepnote_to_be_reexecuted": false,
    "source_hash": "9f0ac1ea",
    "execution_start": 1622966143976,
    "execution_millis": 1,
    "deepnote_cell_type": "code"
   },
   "outputs": [],
   "execution_count": null
  },
  {
   "cell_type": "code",
   "source": "result = pd.DataFrame()\nresult['Model'] = ['Random Forest', 'Balanced Random Forest', 'XGBoost', 'CatBoost', 'Stacking with RF', 'Stacking with BRF']\nresult['Increase in revenue'] = [iip(best_rf), iip(best_brf), iip(best_xgb), iip(best_cat), iip(best_stc), iip(best_stc2)]\nresult['Accepted defaulters'] = [FOR(rf, bi_rf), FOR(brf, bi_brf), FOR(xgb, bi_xgb), FOR(cat, bi_cat), FOR(stc, bi_stc), FOR(stc2, bi_stc2)]\nresult['Denied non-defaulters'] = [FPR(rf, bi_rf), FPR(brf, bi_brf), FPR(xgb, bi_xgb), FPR(cat, bi_cat), FPR(stc, bi_stc), FPR(stc2, bi_stc2)]\nresult['Accepted defaulters'] = (100*result['Accepted defaulters']).apply(lambda x: str(round(x, 2)) + '%')\nresult['Denied non-defaulters'] = (100*result['Denied non-defaulters']).apply(lambda x: str(round(x, 2)) + '%')\nresult.sort_values(by='Increase in revenue', ignore_index=True, ascending=False)",
   "metadata": {
    "tags": [],
    "cell_id": "00078-4ba34c5f-8caa-459a-951e-9f3c52b5be28",
    "deepnote_to_be_reexecuted": false,
    "source_hash": "f9e39658",
    "execution_start": 1622966387829,
    "execution_millis": 6861,
    "deepnote_cell_type": "code"
   },
   "outputs": [
    {
     "output_type": "execute_result",
     "execution_count": 48,
     "data": {
      "application/vnd.deepnote.dataframe.v2+json": {
       "row_count": 6,
       "column_count": 4,
       "columns": [
        {
         "name": "Model",
         "dtype": "object",
         "stats": {
          "unique_count": 6,
          "nan_count": 0,
          "categories": [
           {
            "name": "Stacking with BRF",
            "count": 1
           },
           {
            "name": "Stacking with RF",
            "count": 1
           },
           {
            "name": "4 others",
            "count": 4
           }
          ]
         }
        },
        {
         "name": "Increase in revenue",
         "dtype": "object",
         "stats": {
          "unique_count": 6,
          "nan_count": 0,
          "categories": [
           {
            "name": "15.07%",
            "count": 1
           },
           {
            "name": "14.99%",
            "count": 1
           },
           {
            "name": "4 others",
            "count": 4
           }
          ]
         }
        },
        {
         "name": "Accepted defaulters",
         "dtype": "object",
         "stats": {
          "unique_count": 6,
          "nan_count": 0,
          "categories": [
           {
            "name": "3.41%",
            "count": 1
           },
           {
            "name": "3.42%",
            "count": 1
           },
           {
            "name": "4 others",
            "count": 4
           }
          ]
         }
        },
        {
         "name": "Denied non-defaulters",
         "dtype": "object",
         "stats": {
          "unique_count": 6,
          "nan_count": 0,
          "categories": [
           {
            "name": "8.27%",
            "count": 1
           },
           {
            "name": "8.25%",
            "count": 1
           },
           {
            "name": "4 others",
            "count": 4
           }
          ]
         }
        },
        {
         "name": "_deepnote_index_column",
         "dtype": "int64"
        }
       ],
       "rows_top": [
        {
         "Model": "Stacking with BRF",
         "Increase in revenue": "15.07%",
         "Accepted defaulters": "3.41%",
         "Denied non-defaulters": "8.27%",
         "_deepnote_index_column": 0
        },
        {
         "Model": "Stacking with RF",
         "Increase in revenue": "14.99%",
         "Accepted defaulters": "3.42%",
         "Denied non-defaulters": "8.25%",
         "_deepnote_index_column": 1
        },
        {
         "Model": "XGBoost",
         "Increase in revenue": "14.48%",
         "Accepted defaulters": "3.48%",
         "Denied non-defaulters": "8.12%",
         "_deepnote_index_column": 2
        },
        {
         "Model": "CatBoost",
         "Increase in revenue": "14.42%",
         "Accepted defaulters": "3.69%",
         "Denied non-defaulters": "6.85%",
         "_deepnote_index_column": 3
        },
        {
         "Model": "Random Forest",
         "Increase in revenue": "14.27%",
         "Accepted defaulters": "3.5%",
         "Denied non-defaulters": "8.02%",
         "_deepnote_index_column": 4
        },
        {
         "Model": "Balanced Random Forest",
         "Increase in revenue": "13.99%",
         "Accepted defaulters": "3.55%",
         "Denied non-defaulters": "7.82%",
         "_deepnote_index_column": 5
        }
       ],
       "rows_bottom": null
      },
      "text/plain": "                    Model Increase in revenue Accepted defaulters  \\\n0       Stacking with BRF              15.07%               3.41%   \n1        Stacking with RF              14.99%               3.42%   \n2                 XGBoost              14.48%               3.48%   \n3                CatBoost              14.42%               3.69%   \n4           Random Forest              14.27%                3.5%   \n5  Balanced Random Forest              13.99%               3.55%   \n\n  Denied non-defaulters  \n0                 8.27%  \n1                 8.25%  \n2                 8.12%  \n3                 6.85%  \n4                 8.02%  \n5                 7.82%  ",
      "text/html": "<div>\n<style scoped>\n    .dataframe tbody tr th:only-of-type {\n        vertical-align: middle;\n    }\n\n    .dataframe tbody tr th {\n        vertical-align: top;\n    }\n\n    .dataframe thead th {\n        text-align: right;\n    }\n</style>\n<table border=\"1\" class=\"dataframe\">\n  <thead>\n    <tr style=\"text-align: right;\">\n      <th></th>\n      <th>Model</th>\n      <th>Increase in revenue</th>\n      <th>Accepted defaulters</th>\n      <th>Denied non-defaulters</th>\n    </tr>\n  </thead>\n  <tbody>\n    <tr>\n      <th>0</th>\n      <td>Stacking with BRF</td>\n      <td>15.07%</td>\n      <td>3.41%</td>\n      <td>8.27%</td>\n    </tr>\n    <tr>\n      <th>1</th>\n      <td>Stacking with RF</td>\n      <td>14.99%</td>\n      <td>3.42%</td>\n      <td>8.25%</td>\n    </tr>\n    <tr>\n      <th>2</th>\n      <td>XGBoost</td>\n      <td>14.48%</td>\n      <td>3.48%</td>\n      <td>8.12%</td>\n    </tr>\n    <tr>\n      <th>3</th>\n      <td>CatBoost</td>\n      <td>14.42%</td>\n      <td>3.69%</td>\n      <td>6.85%</td>\n    </tr>\n    <tr>\n      <th>4</th>\n      <td>Random Forest</td>\n      <td>14.27%</td>\n      <td>3.5%</td>\n      <td>8.02%</td>\n    </tr>\n    <tr>\n      <th>5</th>\n      <td>Balanced Random Forest</td>\n      <td>13.99%</td>\n      <td>3.55%</td>\n      <td>7.82%</td>\n    </tr>\n  </tbody>\n</table>\n</div>"
     },
     "metadata": {}
    }
   ],
   "execution_count": null
  },
  {
   "cell_type": "markdown",
   "source": "We can see that with Stacking of Balanced Random Forest, Catboost and XGBoost we can get the best result by profit. Surprisingly, this model has been trained on resampled data (Stacking with Balanced Random Forest but trained on original data is not shown, but its result was worse), so we could conclude that additional balanced fitting after undersampling also has a positive influence to the model. This model gives us 15% increase in revenue, which is significant improvment for the bank. Also I would like to draw your attention on CatBoost model. Its financial result is as good as in the best model, but number of clients in this model greater than in others. Bank may use  this model if they are also interested in attracting clients to different products throught credit cards.",
   "metadata": {
    "tags": [],
    "cell_id": "00079-55e93254-c050-4fee-8573-fb4f32d42730",
    "deepnote_cell_type": "markdown"
   }
  },
  {
   "cell_type": "markdown",
   "source": "<a style='text-decoration:none;line-height:16px;display:flex;color:#5B5B62;padding:10px;justify-content:end;' href='https://deepnote.com?utm_source=created-in-deepnote-cell&projectId=0365b271-6605-4524-ad1f-e00dd9a323c1' target=\"_blank\">\n<img alt='Created in deepnote.com' style='display:inline;max-height:16px;margin:0px;margin-right:7.5px;' src='data:image/svg+xml;base64,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' > </img>\nCreated in <span style='font-weight:600;margin-left:4px;'>Deepnote</span></a>",
   "metadata": {
    "tags": [],
    "created_in_deepnote_cell": true,
    "deepnote_cell_type": "markdown"
   }
  }
 ],
 "nbformat": 4,
 "nbformat_minor": 2,
 "metadata": {
  "orig_nbformat": 2,
  "deepnote_notebook_id": "df1be7be-a66a-4ce4-81e5-cc277f33cdb1",
  "deepnote_execution_queue": [],
  "deepnote": {}
 }
}